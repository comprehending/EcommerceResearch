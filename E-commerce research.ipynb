{
 "cells": [
  {
   "cell_type": "markdown",
   "metadata": {},
   "source": [
    "# <center><font color='brown'>An online household goods store</font></center>\n",
    "<center><img src=\"household.jpg\"></center>"
   ]
  },
  {
   "cell_type": "markdown",
   "metadata": {},
   "source": [
    "## Contents<a class=\"anchor\" id=\"contents\"></a>\n",
    "\n",
    "* [Project description](#Project_description)\n",
    "<p> </p> \n",
    "* [Project stages](#Project_stages)\n",
    "    * [1. Data preprocessing](#Part_1)\n",
    "        * [Import the libraries](#part1step1)\n",
    "        * [Import the data file and Identification of data types](#part1step2)\n",
    "        * [Analysis of Statistical Summary of Numeric and Categorical Variables](#part1step3)\n",
    "        * [Conclusion](#part1Conclusion)\n",
    "    * [2. Exploratory data analysis](#Part_2)\n",
    "        * [Missing values imputation](#part2step1)\n",
    "        * [Checking for duplicates](#part2step2)\n",
    "        * [Outlier treatment](#part2step3)\n",
    "        * [Conclusion](#part2Conclusion)\n",
    "    * [3. Categorization](#Part_3)\n",
    "        * [Multiple names for the same codes](#part3step1)\n",
    "        * [Unique product token](#part3step2)\n",
    "        * [Categorization of goods](#part3step3)\n",
    "        * [Analysis of product categories](#part3step4)\n",
    "        * [Conclusion](#part3Conclusion)\n",
    "    * [4. Hypothesis testing](#Part_4)\n",
    "        * [Conclusion](#part4Conclusion)\n",
    "    * [5. Working with business metrics and indicators](#Part_5)\n",
    "        * [Total revenue](#part5step1)\n",
    "        * [AOV - Average Order Value](#part5step2)\n",
    "        * [Average Revenue Per User (ARPU)](#part5step3)\n",
    "        * [How many invoices did the store's customers have on average?](#part5step4)\n",
    "        * [Dashboard](#part5step5)\n",
    "        * [Conclusion](#part5Conclusion)\n",
    "<p> </p> \n",
    "* [General Conclusion](#General_Conclusion) \n",
    "<p> </p> \n",
    "* [Presentation](#Presentation) \n",
    "<p> </p> \n",
    "* [Dashboard](#Dashboard) \n",
    "<p> </p> \n",
    "* [References](#References)"
   ]
  },
  {
   "cell_type": "markdown",
   "metadata": {},
   "source": [
    "## Project description <a class=\"anchor\" id=\"Project_description\"></a>\n",
    "\n",
    "Our task is to analyze the assortment of an online homegoods store. <br>\n",
    "The analysis is performed for the product managers of the store.<br>\n",
    "\n",
    "As for the product range analysis, managers of the store are most concerned about the following things:\n",
    "- Which products are more often sold by themselves, and which ones are more often combined with others (main and additional assortment)?\n",
    "- What product groups are more often included in the additional assortment?\n",
    "- What bundles of product groups are often present in shopping carts? For example, the category \"houseplants\" can often be accompanied by \"mineral fertilizers\"\n",
    "\n",
    "The store has provided a file with the history of transactions."
   ]
  },
  {
   "cell_type": "markdown",
   "metadata": {},
   "source": [
    "## Project stages <a class=\"anchor\" id=\"Project_stages\"></a>"
   ]
  },
  {
   "cell_type": "markdown",
   "metadata": {},
   "source": [
    "## 1. Data preprocessing <a class=\"anchor\" id=\"Part_1\"></a>\n",
    "[Go back to the Contents](#contents)\n",
    "\n",
    "The first step here is looking at the content of the data file.<br>\n",
    "Let's load the data and do an initial inspection."
   ]
  },
  {
   "cell_type": "markdown",
   "metadata": {},
   "source": [
    "### *Step 1:* Import the libraries <a class=\"anchor\" id=\"part1step1\"></a>"
   ]
  },
  {
   "cell_type": "code",
   "execution_count": 1,
   "metadata": {},
   "outputs": [],
   "source": [
    "#packages for data manipulations\n",
    "import pandas as pd\n",
    "import numpy as np\n",
    "#The Natural Language Toolkit\n",
    "import nltk\n",
    "from nltk.stem.wordnet import WordNetLemmatizer\n",
    "#statistical package\n",
    "import math\n",
    "import scipy.stats as stats\n",
    "#packages for data plotting\n",
    "import matplotlib.pyplot as plt\n",
    "import matplotlib.patches as mpatches\n",
    "import seaborn as sns"
   ]
  },
  {
   "cell_type": "markdown",
   "metadata": {},
   "source": [
    "### *Step 2:* Import the data file and Identification of data types <a class=\"anchor\" id=\"part1step2\"></a>\n",
    "\n",
    "Let's do a primary data transformation to reduce the size of data frames in memory.\n",
    "\n",
    "- **ecommerce_dataset_us.csv file**"
   ]
  },
  {
   "cell_type": "code",
   "execution_count": 2,
   "metadata": {},
   "outputs": [
    {
     "name": "stdout",
     "output_type": "stream",
     "text": [
      "<class 'pandas.core.frame.DataFrame'>\n",
      "RangeIndex: 541909 entries, 0 to 541908\n",
      "Data columns (total 7 columns):\n",
      " #   Column       Non-Null Count   Dtype         \n",
      "---  ------       --------------   -----         \n",
      " 0   InvoiceNo    541909 non-null  object        \n",
      " 1   StockCode    541909 non-null  object        \n",
      " 2   Description  540455 non-null  object        \n",
      " 3   Quantity     541909 non-null  int32         \n",
      " 4   InvoiceDate  541909 non-null  datetime64[ns]\n",
      " 5   UnitPrice    541909 non-null  float64       \n",
      " 6   CustomerID   406829 non-null  float64       \n",
      "dtypes: datetime64[ns](1), float64(2), int32(1), object(3)\n",
      "memory usage: 26.9+ MB\n"
     ]
    }
   ],
   "source": [
    "#source of the data\n",
    "#check memory usage\n",
    "#df = pd.read_csv(\"ecommerce_dataset_us.csv\", nrows=500)\n",
    "#df.info(memory_usage='deep')\n",
    "\n",
    "#add '/datasets/'\n",
    "df_store = pd.read_csv(\"/datasets/ecommerce_dataset_us.csv\", sep='\\t'\n",
    "                       , parse_dates=['InvoiceDate'], dtype={'Quantity':'int'})\n",
    "#structure of the dataset\n",
    "df_store.info()"
   ]
  },
  {
   "cell_type": "markdown",
   "metadata": {},
   "source": [
    "The file *ecommerce_dataset_us.csv* contains the following columns:\n",
    "- *InvoiceNo*   — order identifier\n",
    "- *StockCode*   — item identifier\n",
    "- *Description* — item name\n",
    "- *Quantity*    — quantity of goods\n",
    "- *InvoiceDate* — order date\n",
    "- *UnitPrice*   — price per item\n",
    "- *CustomerID*  — customer identifier"
   ]
  },
  {
   "cell_type": "code",
   "execution_count": 3,
   "metadata": {},
   "outputs": [
    {
     "data": {
      "text/html": [
       "<div>\n",
       "<style scoped>\n",
       "    .dataframe tbody tr th:only-of-type {\n",
       "        vertical-align: middle;\n",
       "    }\n",
       "\n",
       "    .dataframe tbody tr th {\n",
       "        vertical-align: top;\n",
       "    }\n",
       "\n",
       "    .dataframe thead th {\n",
       "        text-align: right;\n",
       "    }\n",
       "</style>\n",
       "<table border=\"1\" class=\"dataframe\">\n",
       "  <thead>\n",
       "    <tr style=\"text-align: right;\">\n",
       "      <th></th>\n",
       "      <th>InvoiceNo</th>\n",
       "      <th>StockCode</th>\n",
       "      <th>Description</th>\n",
       "      <th>Quantity</th>\n",
       "      <th>InvoiceDate</th>\n",
       "      <th>UnitPrice</th>\n",
       "      <th>CustomerID</th>\n",
       "    </tr>\n",
       "  </thead>\n",
       "  <tbody>\n",
       "    <tr>\n",
       "      <th>223721</th>\n",
       "      <td>556489</td>\n",
       "      <td>21326</td>\n",
       "      <td>AGED GLASS SILVER T-LIGHT HOLDER</td>\n",
       "      <td>1</td>\n",
       "      <td>2019-06-10 13:59:00</td>\n",
       "      <td>0.65</td>\n",
       "      <td>14704.0</td>\n",
       "    </tr>\n",
       "    <tr>\n",
       "      <th>44000</th>\n",
       "      <td>540154</td>\n",
       "      <td>79144C</td>\n",
       "      <td>PAINTED LIGHTBULB RAINBOW DESIGN</td>\n",
       "      <td>3</td>\n",
       "      <td>2019-01-03 11:30:00</td>\n",
       "      <td>0.84</td>\n",
       "      <td>NaN</td>\n",
       "    </tr>\n",
       "    <tr>\n",
       "      <th>316610</th>\n",
       "      <td>564755</td>\n",
       "      <td>22280</td>\n",
       "      <td>POCKET BAG PINK PAISELY BROWN SPOT</td>\n",
       "      <td>1</td>\n",
       "      <td>2019-08-28 10:31:00</td>\n",
       "      <td>2.46</td>\n",
       "      <td>NaN</td>\n",
       "    </tr>\n",
       "    <tr>\n",
       "      <th>409712</th>\n",
       "      <td>572069</td>\n",
       "      <td>85049A</td>\n",
       "      <td>TRADITIONAL CHRISTMAS RIBBONS</td>\n",
       "      <td>12</td>\n",
       "      <td>2019-10-18 13:24:00</td>\n",
       "      <td>1.25</td>\n",
       "      <td>14911.0</td>\n",
       "    </tr>\n",
       "    <tr>\n",
       "      <th>72657</th>\n",
       "      <td>542255</td>\n",
       "      <td>22873</td>\n",
       "      <td>NUMBER TILE COTTAGE GARDEN 5</td>\n",
       "      <td>1</td>\n",
       "      <td>2019-01-24 16:43:00</td>\n",
       "      <td>4.13</td>\n",
       "      <td>NaN</td>\n",
       "    </tr>\n",
       "    <tr>\n",
       "      <th>387136</th>\n",
       "      <td>570258</td>\n",
       "      <td>21328</td>\n",
       "      <td>BALLOONS  WRITING SET</td>\n",
       "      <td>1</td>\n",
       "      <td>2019-10-08 09:56:00</td>\n",
       "      <td>3.29</td>\n",
       "      <td>NaN</td>\n",
       "    </tr>\n",
       "    <tr>\n",
       "      <th>66649</th>\n",
       "      <td>541810</td>\n",
       "      <td>84519B</td>\n",
       "      <td>CARROT CHARLIE+LOLA COASTER SET</td>\n",
       "      <td>1</td>\n",
       "      <td>2019-01-19 15:00:00</td>\n",
       "      <td>5.79</td>\n",
       "      <td>NaN</td>\n",
       "    </tr>\n",
       "    <tr>\n",
       "      <th>462515</th>\n",
       "      <td>575978</td>\n",
       "      <td>23472</td>\n",
       "      <td>NINE DRAWER OFFICE TIDY</td>\n",
       "      <td>6</td>\n",
       "      <td>2019-11-11 13:27:00</td>\n",
       "      <td>12.50</td>\n",
       "      <td>15903.0</td>\n",
       "    </tr>\n",
       "    <tr>\n",
       "      <th>263293</th>\n",
       "      <td>559981</td>\n",
       "      <td>23301</td>\n",
       "      <td>GARDENERS KNEELING PAD KEEP CALM</td>\n",
       "      <td>6</td>\n",
       "      <td>2019-07-12 11:30:00</td>\n",
       "      <td>1.65</td>\n",
       "      <td>14562.0</td>\n",
       "    </tr>\n",
       "    <tr>\n",
       "      <th>320297</th>\n",
       "      <td>564974</td>\n",
       "      <td>22329</td>\n",
       "      <td>ROUND CONTAINER SET OF 5 RETROSPOT</td>\n",
       "      <td>1</td>\n",
       "      <td>2019-08-29 15:32:00</td>\n",
       "      <td>3.29</td>\n",
       "      <td>NaN</td>\n",
       "    </tr>\n",
       "  </tbody>\n",
       "</table>\n",
       "</div>"
      ],
      "text/plain": [
       "       InvoiceNo StockCode                         Description  Quantity  \\\n",
       "223721    556489     21326    AGED GLASS SILVER T-LIGHT HOLDER         1   \n",
       "44000     540154    79144C    PAINTED LIGHTBULB RAINBOW DESIGN         3   \n",
       "316610    564755     22280  POCKET BAG PINK PAISELY BROWN SPOT         1   \n",
       "409712    572069    85049A       TRADITIONAL CHRISTMAS RIBBONS        12   \n",
       "72657     542255     22873        NUMBER TILE COTTAGE GARDEN 5         1   \n",
       "387136    570258     21328              BALLOONS  WRITING SET          1   \n",
       "66649     541810    84519B     CARROT CHARLIE+LOLA COASTER SET         1   \n",
       "462515    575978     23472             NINE DRAWER OFFICE TIDY         6   \n",
       "263293    559981     23301   GARDENERS KNEELING PAD KEEP CALM          6   \n",
       "320297    564974     22329  ROUND CONTAINER SET OF 5 RETROSPOT         1   \n",
       "\n",
       "               InvoiceDate  UnitPrice  CustomerID  \n",
       "223721 2019-06-10 13:59:00       0.65     14704.0  \n",
       "44000  2019-01-03 11:30:00       0.84         NaN  \n",
       "316610 2019-08-28 10:31:00       2.46         NaN  \n",
       "409712 2019-10-18 13:24:00       1.25     14911.0  \n",
       "72657  2019-01-24 16:43:00       4.13         NaN  \n",
       "387136 2019-10-08 09:56:00       3.29         NaN  \n",
       "66649  2019-01-19 15:00:00       5.79         NaN  \n",
       "462515 2019-11-11 13:27:00      12.50     15903.0  \n",
       "263293 2019-07-12 11:30:00       1.65     14562.0  \n",
       "320297 2019-08-29 15:32:00       3.29         NaN  "
      ]
     },
     "execution_count": 3,
     "metadata": {},
     "output_type": "execute_result"
    }
   ],
   "source": [
    "#dataset content\n",
    "df_store.sample(10)"
   ]
  },
  {
   "cell_type": "markdown",
   "metadata": {},
   "source": [
    "The file match the description."
   ]
  },
  {
   "cell_type": "markdown",
   "metadata": {},
   "source": [
    "### *Step 3:* Analysis of Statistical Summary of Numeric and Categorical Variables <a class=\"anchor\" id=\"part1step3\"></a>\n",
    "\n",
    "Since the dataset contains text fields that we need for analysis, let's translate them to uppercase."
   ]
  },
  {
   "cell_type": "code",
   "execution_count": 4,
   "metadata": {},
   "outputs": [],
   "source": [
    "df_store= df_store.apply(lambda x: x.str.upper() if x.dtype == \"object\" else x) "
   ]
  },
  {
   "cell_type": "markdown",
   "metadata": {},
   "source": [
    "Let's collect descriptive statistics of our data and see them in more detail."
   ]
  },
  {
   "cell_type": "code",
   "execution_count": 5,
   "metadata": {},
   "outputs": [
    {
     "data": {
      "text/html": [
       "<div>\n",
       "<style scoped>\n",
       "    .dataframe tbody tr th:only-of-type {\n",
       "        vertical-align: middle;\n",
       "    }\n",
       "\n",
       "    .dataframe tbody tr th {\n",
       "        vertical-align: top;\n",
       "    }\n",
       "\n",
       "    .dataframe thead th {\n",
       "        text-align: right;\n",
       "    }\n",
       "</style>\n",
       "<table border=\"1\" class=\"dataframe\">\n",
       "  <thead>\n",
       "    <tr style=\"text-align: right;\">\n",
       "      <th></th>\n",
       "      <th>InvoiceNo</th>\n",
       "      <th>StockCode</th>\n",
       "      <th>Description</th>\n",
       "      <th>Quantity</th>\n",
       "      <th>InvoiceDate</th>\n",
       "      <th>UnitPrice</th>\n",
       "      <th>CustomerID</th>\n",
       "    </tr>\n",
       "  </thead>\n",
       "  <tbody>\n",
       "    <tr>\n",
       "      <th>count</th>\n",
       "      <td>541909</td>\n",
       "      <td>541909</td>\n",
       "      <td>540455</td>\n",
       "      <td>541909.000000</td>\n",
       "      <td>541909</td>\n",
       "      <td>541909.000000</td>\n",
       "      <td>406829.000000</td>\n",
       "    </tr>\n",
       "    <tr>\n",
       "      <th>unique</th>\n",
       "      <td>25900</td>\n",
       "      <td>3958</td>\n",
       "      <td>4206</td>\n",
       "      <td>NaN</td>\n",
       "      <td>NaN</td>\n",
       "      <td>NaN</td>\n",
       "      <td>NaN</td>\n",
       "    </tr>\n",
       "    <tr>\n",
       "      <th>top</th>\n",
       "      <td>573585</td>\n",
       "      <td>85123A</td>\n",
       "      <td>WHITE HANGING HEART T-LIGHT HOLDER</td>\n",
       "      <td>NaN</td>\n",
       "      <td>NaN</td>\n",
       "      <td>NaN</td>\n",
       "      <td>NaN</td>\n",
       "    </tr>\n",
       "    <tr>\n",
       "      <th>freq</th>\n",
       "      <td>1114</td>\n",
       "      <td>2380</td>\n",
       "      <td>2369</td>\n",
       "      <td>NaN</td>\n",
       "      <td>NaN</td>\n",
       "      <td>NaN</td>\n",
       "      <td>NaN</td>\n",
       "    </tr>\n",
       "    <tr>\n",
       "      <th>mean</th>\n",
       "      <td>NaN</td>\n",
       "      <td>NaN</td>\n",
       "      <td>NaN</td>\n",
       "      <td>9.552250</td>\n",
       "      <td>2019-07-02 13:34:57.156087040</td>\n",
       "      <td>4.611114</td>\n",
       "      <td>15287.690570</td>\n",
       "    </tr>\n",
       "    <tr>\n",
       "      <th>min</th>\n",
       "      <td>NaN</td>\n",
       "      <td>NaN</td>\n",
       "      <td>NaN</td>\n",
       "      <td>-80995.000000</td>\n",
       "      <td>2018-11-29 08:26:00</td>\n",
       "      <td>-11062.060000</td>\n",
       "      <td>12346.000000</td>\n",
       "    </tr>\n",
       "    <tr>\n",
       "      <th>25%</th>\n",
       "      <td>NaN</td>\n",
       "      <td>NaN</td>\n",
       "      <td>NaN</td>\n",
       "      <td>1.000000</td>\n",
       "      <td>2019-03-26 11:34:00</td>\n",
       "      <td>1.250000</td>\n",
       "      <td>13953.000000</td>\n",
       "    </tr>\n",
       "    <tr>\n",
       "      <th>50%</th>\n",
       "      <td>NaN</td>\n",
       "      <td>NaN</td>\n",
       "      <td>NaN</td>\n",
       "      <td>3.000000</td>\n",
       "      <td>2019-07-17 17:17:00</td>\n",
       "      <td>2.080000</td>\n",
       "      <td>15152.000000</td>\n",
       "    </tr>\n",
       "    <tr>\n",
       "      <th>75%</th>\n",
       "      <td>NaN</td>\n",
       "      <td>NaN</td>\n",
       "      <td>NaN</td>\n",
       "      <td>10.000000</td>\n",
       "      <td>2019-10-17 11:27:00</td>\n",
       "      <td>4.130000</td>\n",
       "      <td>16791.000000</td>\n",
       "    </tr>\n",
       "    <tr>\n",
       "      <th>max</th>\n",
       "      <td>NaN</td>\n",
       "      <td>NaN</td>\n",
       "      <td>NaN</td>\n",
       "      <td>80995.000000</td>\n",
       "      <td>2019-12-07 12:50:00</td>\n",
       "      <td>38970.000000</td>\n",
       "      <td>18287.000000</td>\n",
       "    </tr>\n",
       "    <tr>\n",
       "      <th>std</th>\n",
       "      <td>NaN</td>\n",
       "      <td>NaN</td>\n",
       "      <td>NaN</td>\n",
       "      <td>218.081158</td>\n",
       "      <td>NaN</td>\n",
       "      <td>96.759853</td>\n",
       "      <td>1713.600303</td>\n",
       "    </tr>\n",
       "  </tbody>\n",
       "</table>\n",
       "</div>"
      ],
      "text/plain": [
       "       InvoiceNo StockCode                         Description       Quantity  \\\n",
       "count     541909    541909                              540455  541909.000000   \n",
       "unique     25900      3958                                4206            NaN   \n",
       "top       573585    85123A  WHITE HANGING HEART T-LIGHT HOLDER            NaN   \n",
       "freq        1114      2380                                2369            NaN   \n",
       "mean         NaN       NaN                                 NaN       9.552250   \n",
       "min          NaN       NaN                                 NaN  -80995.000000   \n",
       "25%          NaN       NaN                                 NaN       1.000000   \n",
       "50%          NaN       NaN                                 NaN       3.000000   \n",
       "75%          NaN       NaN                                 NaN      10.000000   \n",
       "max          NaN       NaN                                 NaN   80995.000000   \n",
       "std          NaN       NaN                                 NaN     218.081158   \n",
       "\n",
       "                          InvoiceDate      UnitPrice     CustomerID  \n",
       "count                          541909  541909.000000  406829.000000  \n",
       "unique                            NaN            NaN            NaN  \n",
       "top                               NaN            NaN            NaN  \n",
       "freq                              NaN            NaN            NaN  \n",
       "mean    2019-07-02 13:34:57.156087040       4.611114   15287.690570  \n",
       "min               2018-11-29 08:26:00  -11062.060000   12346.000000  \n",
       "25%               2019-03-26 11:34:00       1.250000   13953.000000  \n",
       "50%               2019-07-17 17:17:00       2.080000   15152.000000  \n",
       "75%               2019-10-17 11:27:00       4.130000   16791.000000  \n",
       "max               2019-12-07 12:50:00   38970.000000   18287.000000  \n",
       "std                               NaN      96.759853    1713.600303  "
      ]
     },
     "execution_count": 5,
     "metadata": {},
     "output_type": "execute_result"
    }
   ],
   "source": [
    "#general statistic\n",
    "df_store.describe(include='all', datetime_is_numeric=True)"
   ]
  },
  {
   "cell_type": "markdown",
   "metadata": {},
   "source": [
    "Here we see the following:\n",
    "- missing values in Description and CustomerID columns\n",
    "- different number of unique values for StockCode and Description\n",
    "- negative values in the Quantity and UnitPrice columns\n",
    "- extra high values in the Quantity and UnitPrice columns\n",
    "- InvoiceDate from 2018-11-29 to 2019-12-07"
   ]
  },
  {
   "cell_type": "markdown",
   "metadata": {},
   "source": [
    "### Conclusion.<a class=\"anchor\" id=\"part1Conclusion\"></a>\n",
    "\n",
    "The file received from the online store matches the description.<br>\n",
    "It stores the history of transactions for customer accounts. We suppose that the data was collected automatically by a special accounting program that is available in the store. Data is generated for each \"add to cart\". The program also allows them to add transactions manually and account for cancellation or refund.\n",
    "\n",
    "The dates in the files are converted to the DateTime type. <br>\n",
    "The dataset contains missing values, outliers and possibly duplicate records."
   ]
  },
  {
   "cell_type": "markdown",
   "metadata": {},
   "source": [
    "## 2. Exploratory data analysis <a class=\"anchor\" id=\"Part_2\"></a>\n",
    "\n",
    "[Go back to the Contents](#contents)\n",
    "\n",
    "This stage is data transformation. We correct or remove missing,  irrelevant and noisy elements from the data and reduce their complexity."
   ]
  },
  {
   "cell_type": "markdown",
   "metadata": {},
   "source": [
    "### *Step 1:* Missing values imputation<a class=\"anchor\" id=\"part2step1\"></a>"
   ]
  },
  {
   "cell_type": "code",
   "execution_count": 6,
   "metadata": {},
   "outputs": [],
   "source": [
    "def get_num_missing(data, v_field):\n",
    "    #this function returns the percentage of missing data in the specified field\n",
    "    ratio= data[v_field].isnull().sum() / data.shape[0]\n",
    "    return print('Column <'+v_field+'>: Percentage of missing values: {:.1%}'.format(ratio))"
   ]
  },
  {
   "cell_type": "markdown",
   "metadata": {},
   "source": [
    "We have missing data in the Description and CustomerID columns."
   ]
  },
  {
   "cell_type": "code",
   "execution_count": 7,
   "metadata": {},
   "outputs": [
    {
     "name": "stdout",
     "output_type": "stream",
     "text": [
      "Column <Description>: Percentage of missing values: 0.3%\n",
      "Column <CustomerID>: Percentage of missing values: 24.9%\n"
     ]
    }
   ],
   "source": [
    "#percentage of missing data\n",
    "get_num_missing(df_store,'Description')\n",
    "get_num_missing(df_store,'CustomerID')"
   ]
  },
  {
   "cell_type": "markdown",
   "metadata": {},
   "source": [
    "First, let's look at the values in the CustomerID column.\n",
    "\n",
    "It will be convenient for us to fill in the missing data with zero and convert the column to integer."
   ]
  },
  {
   "cell_type": "code",
   "execution_count": 8,
   "metadata": {},
   "outputs": [],
   "source": [
    "#fill missing data with 0\n",
    "df_store['CustomerID'].fillna(0, inplace=True)\n",
    "#change data type\n",
    "df_store['CustomerID']= df_store['CustomerID'].astype('int')"
   ]
  },
  {
   "cell_type": "markdown",
   "metadata": {},
   "source": [
    "Then we will search for CustimerID through the invoice number."
   ]
  },
  {
   "cell_type": "code",
   "execution_count": 9,
   "metadata": {},
   "outputs": [
    {
     "name": "stdout",
     "output_type": "stream",
     "text": [
      "Found values: 0\n"
     ]
    }
   ],
   "source": [
    "#invoices with missing CustomerID values\n",
    "df_invoice= df_store[df_store['CustomerID']==0][['InvoiceNo']].drop_duplicates()\n",
    "#invoices with CustomerID values\n",
    "df_customer= df_store[df_store['CustomerID']!=0].groupby('InvoiceNo').agg({'CustomerID':'unique'})\n",
    "df_customer['CustomerID']= df_customer['CustomerID'].astype('int')\n",
    "#join\n",
    "df= pd.merge(df_invoice, df_customer, left_on='InvoiceNo', right_index=True)\n",
    "print('Found values:', df.shape[0])"
   ]
  },
  {
   "cell_type": "markdown",
   "metadata": {},
   "source": [
    "The dataset contains 24% of records without a CustomerID. Therefore, we will not take this field into account in further analysis.<br>\n",
    "\n",
    "Let's check the missing descriptions. Although there are only 0.3% missing values, this field is significant in our analysis.<br> We will search descriptions through the StockCode."
   ]
  },
  {
   "cell_type": "code",
   "execution_count": 10,
   "metadata": {},
   "outputs": [
    {
     "name": "stdout",
     "output_type": "stream",
     "text": [
      "Found values: 850\n"
     ]
    }
   ],
   "source": [
    "#StockCode with missing Description\n",
    "df_code= df_store[df_store['Description'].isnull()==True][['StockCode']].drop_duplicates()\n",
    "#StockCode with Description\n",
    "df_customer= df_store[df_store['Description'].isnull()==False].groupby('StockCode').agg({'Description':'first'})\n",
    "#join\n",
    "df= pd.merge(df_code, df_customer, left_on='StockCode', right_index=True)\n",
    "print('Found values:', df.shape[0])"
   ]
  },
  {
   "cell_type": "markdown",
   "metadata": {},
   "source": [
    "Let's fill the missing descriptions in."
   ]
  },
  {
   "cell_type": "code",
   "execution_count": 11,
   "metadata": {},
   "outputs": [],
   "source": [
    "#update Description\n",
    "df_store.update(df['Description'], overwrite=False)"
   ]
  },
  {
   "cell_type": "code",
   "execution_count": 12,
   "metadata": {},
   "outputs": [
    {
     "name": "stdout",
     "output_type": "stream",
     "text": [
      "Column <Description>: Percentage of missing values: 0.1%\n"
     ]
    }
   ],
   "source": [
    "#percentage of missing data\n",
    "get_num_missing(df_store,'Description')"
   ]
  },
  {
   "cell_type": "markdown",
   "metadata": {},
   "source": [
    "Fill the rest of the values with a dummy value."
   ]
  },
  {
   "cell_type": "code",
   "execution_count": 13,
   "metadata": {},
   "outputs": [],
   "source": [
    "#fill missing data with ?\n",
    "df_store['Description'].fillna('?', inplace=True)"
   ]
  },
  {
   "cell_type": "markdown",
   "metadata": {},
   "source": [
    "### *Step 2:* Checking for duplicates <a class=\"anchor\" id=\"part2step2\"></a>"
   ]
  },
  {
   "cell_type": "code",
   "execution_count": 14,
   "metadata": {},
   "outputs": [
    {
     "name": "stdout",
     "output_type": "stream",
     "text": [
      "Percentage of duplicated rows: 0.97%\n"
     ]
    }
   ],
   "source": [
    "#checks for duplicates\n",
    "ratio= (df_store.shape[0]-df_store.drop_duplicates().shape[0]) / df_store.shape[0]\n",
    "print('Percentage of duplicated rows: {:.2%}'.format(ratio))"
   ]
  },
  {
   "cell_type": "markdown",
   "metadata": {},
   "source": [
    "The percentage of duplicate entries is insignificant, we can delete them."
   ]
  },
  {
   "cell_type": "code",
   "execution_count": 15,
   "metadata": {},
   "outputs": [
    {
     "name": "stdout",
     "output_type": "stream",
     "text": [
      "Total rows in the dataset: 536641\n"
     ]
    }
   ],
   "source": [
    "df_store.drop_duplicates(inplace=True)\n",
    "print(\"Total rows in the dataset:\", df_store.shape[0])"
   ]
  },
  {
   "cell_type": "markdown",
   "metadata": {},
   "source": [
    "We saw earlier that the number of unique records in StockCode and Description columns do not match. Let's check them."
   ]
  },
  {
   "cell_type": "code",
   "execution_count": 16,
   "metadata": {},
   "outputs": [
    {
     "data": {
      "text/html": [
       "<div>\n",
       "<style scoped>\n",
       "    .dataframe tbody tr th:only-of-type {\n",
       "        vertical-align: middle;\n",
       "    }\n",
       "\n",
       "    .dataframe tbody tr th {\n",
       "        vertical-align: top;\n",
       "    }\n",
       "\n",
       "    .dataframe thead th {\n",
       "        text-align: right;\n",
       "    }\n",
       "</style>\n",
       "<table border=\"1\" class=\"dataframe\">\n",
       "  <thead>\n",
       "    <tr style=\"text-align: right;\">\n",
       "      <th></th>\n",
       "      <th>StockCode</th>\n",
       "      <th>Description</th>\n",
       "    </tr>\n",
       "  </thead>\n",
       "  <tbody>\n",
       "    <tr>\n",
       "      <th>count</th>\n",
       "      <td>536641</td>\n",
       "      <td>536641</td>\n",
       "    </tr>\n",
       "    <tr>\n",
       "      <th>unique</th>\n",
       "      <td>3958</td>\n",
       "      <td>4206</td>\n",
       "    </tr>\n",
       "    <tr>\n",
       "      <th>top</th>\n",
       "      <td>85123A</td>\n",
       "      <td>WHITE HANGING HEART T-LIGHT HOLDER</td>\n",
       "    </tr>\n",
       "    <tr>\n",
       "      <th>freq</th>\n",
       "      <td>2368</td>\n",
       "      <td>2357</td>\n",
       "    </tr>\n",
       "  </tbody>\n",
       "</table>\n",
       "</div>"
      ],
      "text/plain": [
       "       StockCode                         Description\n",
       "count     536641                              536641\n",
       "unique      3958                                4206\n",
       "top       85123A  WHITE HANGING HEART T-LIGHT HOLDER\n",
       "freq        2368                                2357"
      ]
     },
     "execution_count": 16,
     "metadata": {},
     "output_type": "execute_result"
    }
   ],
   "source": [
    "df_store[['StockCode','Description']].describe()"
   ]
  },
  {
   "cell_type": "markdown",
   "metadata": {},
   "source": [
    "I think that the online store changed the text of the product description.<br>\n",
    "We will take this into account later, at the stage of categorizing the list of products in the store."
   ]
  },
  {
   "cell_type": "markdown",
   "metadata": {},
   "source": [
    "### *Step 3:* Outlier treatment <a class=\"anchor\" id=\"part2step3\"></a>\n",
    "\n",
    "We have explicit outliers in the Quantity and UnitPrice columns. Let's see the distribution of data in them."
   ]
  },
  {
   "cell_type": "code",
   "execution_count": 17,
   "metadata": {},
   "outputs": [
    {
     "data": {
      "image/png": "[encoded data removed]",
      "text/plain": [
       "<Figure size 576x288 with 1 Axes>"
      ]
     },
     "metadata": {
      "needs_background": "light"
     },
     "output_type": "display_data"
    }
   ],
   "source": [
    "#whisker plot of Quantity\n",
    "plt.figure(figsize=(8,4))\n",
    "ax = sns.boxenplot(x=df_store['Quantity']).set_title(\"The distribution of Quantity\", size=14);"
   ]
  },
  {
   "cell_type": "markdown",
   "metadata": {},
   "source": [
    "Based on the content of the data, negative values in the dataset indicate accounting amendments. Obviously, there are such corrections in data with positive values.<br>\n",
    "This should be taken into account when calculating business metrics."
   ]
  },
  {
   "cell_type": "markdown",
   "metadata": {},
   "source": [
    "Let's see the distribution of data in the UnitPrice column."
   ]
  },
  {
   "cell_type": "code",
   "execution_count": 18,
   "metadata": {},
   "outputs": [
    {
     "data": {
      "image/png": "[encoded data removed]",
      "text/plain": [
       "<Figure size 576x288 with 1 Axes>"
      ]
     },
     "metadata": {
      "needs_background": "light"
     },
     "output_type": "display_data"
    }
   ],
   "source": [
    "#whisker plot of UnitPrice\n",
    "plt.figure(figsize=(8,4))\n",
    "ax = sns.boxenplot(x=df_store['UnitPrice']).set_title(\"The distribution of UnitPrice\", size=14);"
   ]
  },
  {
   "cell_type": "markdown",
   "metadata": {},
   "source": [
    "Analyzing the data, we can say that for the task of categorizing goods, these emissions do not matter. However, when calculating business metrics, these outliers can affect the resulting values. Therefore, we will remove them at the stage of calculating the metrics."
   ]
  },
  {
   "cell_type": "markdown",
   "metadata": {},
   "source": [
    "### Conclusion. <a class=\"anchor\" id=\"part2Conclusion\"></a>\n",
    "To summarize, we filled in the missing values and removed the duplicates in the dataset.\n",
    "For further analysis, it should be taken into account that the dataset contains 24% of records with a CustomerID equal to zero. In connection with Quantity and UnitPrice columns, this field indicates accounting adjustments.<br>\n",
    "Also, we have a number of records filled with dummy value, which must be taken into account when categorizing store products."
   ]
  },
  {
   "cell_type": "markdown",
   "metadata": {},
   "source": [
    "## 3. Categorization <a class=\"anchor\" id=\"Part_3\"></a>\n",
    "[Go back to the Contents](#contents)\n",
    "\n",
    "To categorize the assortment, we will create a separate dataframe with product descriptions."
   ]
  },
  {
   "cell_type": "markdown",
   "metadata": {},
   "source": [
    "### *Step 1:* Multiple names for the same codes <a class=\"anchor\" id=\"part3step1\"></a>\n",
    "\n",
    "As we saw above, product codes have different names. Let's bring them to the same names to simplify categorization."
   ]
  },
  {
   "cell_type": "code",
   "execution_count": 19,
   "metadata": {},
   "outputs": [
    {
     "name": "stdout",
     "output_type": "stream",
     "text": [
      "Number of unique product descriptions 5094\n"
     ]
    }
   ],
   "source": [
    "#full assortiment\n",
    "df_items= df_store[['StockCode','Description']].drop_duplicates()\n",
    "print('Number of unique product descriptions', df_items.shape[0] )"
   ]
  },
  {
   "cell_type": "markdown",
   "metadata": {},
   "source": [
    "Product names containing less than 8 characters are accounting amendments, we do not need them here."
   ]
  },
  {
   "cell_type": "code",
   "execution_count": 20,
   "metadata": {},
   "outputs": [],
   "source": [
    "#remove words less than 8 characters\n",
    "df_items= df_items[df_items['Description'].str.len()>8].reset_index()"
   ]
  },
  {
   "cell_type": "markdown",
   "metadata": {},
   "source": [
    "Find product codes with different names."
   ]
  },
  {
   "cell_type": "code",
   "execution_count": 21,
   "metadata": {},
   "outputs": [
    {
     "name": "stdout",
     "output_type": "stream",
     "text": [
      "StockCode with multiple names 349\n"
     ]
    }
   ],
   "source": [
    "#group by StockCode\n",
    "df_dubl_descrpt= df_items.groupby('StockCode').agg({'Description':'nunique'}).reset_index()\n",
    "df_dubl_descrpt= df_dubl_descrpt[df_dubl_descrpt['Description']>1][['StockCode']]\n",
    "print('StockCode with multiple names', df_dubl_descrpt.shape[0])"
   ]
  },
  {
   "cell_type": "markdown",
   "metadata": {},
   "source": [
    "Let's choose the correct name for the code."
   ]
  },
  {
   "cell_type": "code",
   "execution_count": 22,
   "metadata": {},
   "outputs": [],
   "source": [
    "#collect all the names \n",
    "df_dubl_descrpt= df_dubl_descrpt.merge(df_items, left_on='StockCode', right_on='StockCode')"
   ]
  },
  {
   "cell_type": "code",
   "execution_count": 23,
   "metadata": {},
   "outputs": [],
   "source": [
    "#unnecessary names\n",
    "list_of_values=['THROWN AWAY','THROW AWAY','WET DAMAGED','ADJUSTMENT','ASSORTED','DESTROYED','YOU',\n",
    "                'RE-ADJUSTMENT','WET/RUSTY','STOCK CHECK','CRUSHED BOXES', 'AND','WITH','AIRMAIL',\n",
    "                'AMAZON FEE','ADJUST BAD DEBT','BANK CHARGES','CRUK COMMISSION','DOTCOM POSTAGE','BANK CHARGES']"
   ]
  },
  {
   "cell_type": "code",
   "execution_count": 24,
   "metadata": {},
   "outputs": [],
   "source": [
    "#StockCodes with corrected names\n",
    "df1= df_dubl_descrpt[df_dubl_descrpt['Description'].str.len()>10]\\\n",
    "                    .query(\"Description not in @list_of_values\")\\\n",
    "                    .groupby('StockCode').agg({'Description':'first'}).reset_index()"
   ]
  },
  {
   "cell_type": "markdown",
   "metadata": {},
   "source": [
    "The final list of products."
   ]
  },
  {
   "cell_type": "code",
   "execution_count": 25,
   "metadata": {},
   "outputs": [
    {
     "name": "stdout",
     "output_type": "stream",
     "text": [
      "Number of unique product descriptions 3840\n"
     ]
    }
   ],
   "source": [
    "#full assortiment\n",
    "assortiment= df_items.loc[~df_items['StockCode'].isin(df1['StockCode']), ['StockCode','Description']\n",
    "            ].append(df1[['StockCode','Description']])\n",
    "print('Number of unique product descriptions', assortiment.shape[0] )"
   ]
  },
  {
   "cell_type": "code",
   "execution_count": 26,
   "metadata": {},
   "outputs": [
    {
     "data": {
      "text/html": [
       "<div>\n",
       "<style scoped>\n",
       "    .dataframe tbody tr th:only-of-type {\n",
       "        vertical-align: middle;\n",
       "    }\n",
       "\n",
       "    .dataframe tbody tr th {\n",
       "        vertical-align: top;\n",
       "    }\n",
       "\n",
       "    .dataframe thead th {\n",
       "        text-align: right;\n",
       "    }\n",
       "</style>\n",
       "<table border=\"1\" class=\"dataframe\">\n",
       "  <thead>\n",
       "    <tr style=\"text-align: right;\">\n",
       "      <th></th>\n",
       "      <th>index</th>\n",
       "      <th>StockCode</th>\n",
       "      <th>Description</th>\n",
       "    </tr>\n",
       "  </thead>\n",
       "  <tbody>\n",
       "    <tr>\n",
       "      <th>0</th>\n",
       "      <td>3</td>\n",
       "      <td>84029G</td>\n",
       "      <td>KNITTED UNION FLAG HOT WATER BOTTLE</td>\n",
       "    </tr>\n",
       "    <tr>\n",
       "      <th>1</th>\n",
       "      <td>4</td>\n",
       "      <td>84029E</td>\n",
       "      <td>RED WOOLLY HOTTIE WHITE HEART.</td>\n",
       "    </tr>\n",
       "    <tr>\n",
       "      <th>2</th>\n",
       "      <td>5</td>\n",
       "      <td>22752</td>\n",
       "      <td>SET 7 BABUSHKA NESTING BOXES</td>\n",
       "    </tr>\n",
       "    <tr>\n",
       "      <th>3</th>\n",
       "      <td>6</td>\n",
       "      <td>21730</td>\n",
       "      <td>GLASS STAR FROSTED T-LIGHT HOLDER</td>\n",
       "    </tr>\n",
       "    <tr>\n",
       "      <th>4</th>\n",
       "      <td>7</td>\n",
       "      <td>22633</td>\n",
       "      <td>HAND WARMER UNION JACK</td>\n",
       "    </tr>\n",
       "  </tbody>\n",
       "</table>\n",
       "</div>"
      ],
      "text/plain": [
       "   index StockCode                          Description\n",
       "0      3    84029G  KNITTED UNION FLAG HOT WATER BOTTLE\n",
       "1      4    84029E       RED WOOLLY HOTTIE WHITE HEART.\n",
       "2      5     22752         SET 7 BABUSHKA NESTING BOXES\n",
       "3      6     21730    GLASS STAR FROSTED T-LIGHT HOLDER\n",
       "4      7     22633               HAND WARMER UNION JACK"
      ]
     },
     "execution_count": 26,
     "metadata": {},
     "output_type": "execute_result"
    }
   ],
   "source": [
    "#remove the remaining accounting amendments\n",
    "assortiment= assortiment.query(\"Description not in @list_of_values\").reset_index()\n",
    "#final dataset\n",
    "assortiment.head()"
   ]
  },
  {
   "cell_type": "markdown",
   "metadata": {},
   "source": [
    "### *Step 2:* Unique product token <a class=\"anchor\" id=\"part3step2\"></a>\n",
    "\n",
    "To categorize products, we need to remove punctuation, plurals and numbers from the description.<br>\n",
    "Also, we need to highlight one word from the description that will denote a category. Analyzing the data, it can see that the keyword is last in the description. Let's take advantage of this feature."
   ]
  },
  {
   "cell_type": "code",
   "execution_count": 27,
   "metadata": {},
   "outputs": [],
   "source": [
    "#Lemmatize using WordNet's built-in morphy function\n",
    "wordnet_lemmatizer = WordNetLemmatizer()"
   ]
  },
  {
   "cell_type": "code",
   "execution_count": 28,
   "metadata": {},
   "outputs": [],
   "source": [
    "def correct_words(row):\n",
    "    #this function rebuilds Description and found Token of product item\n",
    "    sentence = row['Description']\n",
    "    new_sentence=''\n",
    "    token=''\n",
    "    #extra characters\n",
    "    punctuations=\"?:!.,;\"\n",
    "    \n",
    "    #divided the sentence into words\n",
    "    sentence_words = nltk.word_tokenize(sentence)\n",
    "    for word in sentence_words:\n",
    "        #removal of punctuation\n",
    "        if word in punctuations:\n",
    "            sentence_words.remove(word)\n",
    "        #removal of small words, numbers, plural    \n",
    "        new_word= wordnet_lemmatizer.lemmatize(word.lower(), pos=\"n\")\n",
    "        if (len(new_word)>2)&(any(map(str.isdigit, new_word))==False ):\n",
    "            token= new_word.upper()\n",
    "            new_sentence= new_sentence+' '+token\n",
    "            \n",
    "    #return a new Description and Token       \n",
    "    return pd.Series((new_sentence, token)) "
   ]
  },
  {
   "cell_type": "code",
   "execution_count": 29,
   "metadata": {},
   "outputs": [
    {
     "name": "stdout",
     "output_type": "stream",
     "text": [
      "Total number of unique tokens 729\n"
     ]
    }
   ],
   "source": [
    "#a new Description\n",
    "assortiment[['NewDescription','Token']]= assortiment.apply(correct_words, axis=1)\n",
    "#print result\n",
    "print('Total number of unique tokens', assortiment['Token'].drop_duplicates().shape[0])"
   ]
  },
  {
   "cell_type": "markdown",
   "metadata": {},
   "source": [
    "To summarize, we got 736 unique token attributes out of 3840 unique product names."
   ]
  },
  {
   "cell_type": "code",
   "execution_count": 30,
   "metadata": {},
   "outputs": [
    {
     "data": {
      "text/html": [
       "<div>\n",
       "<style scoped>\n",
       "    .dataframe tbody tr th:only-of-type {\n",
       "        vertical-align: middle;\n",
       "    }\n",
       "\n",
       "    .dataframe tbody tr th {\n",
       "        vertical-align: top;\n",
       "    }\n",
       "\n",
       "    .dataframe thead th {\n",
       "        text-align: right;\n",
       "    }\n",
       "</style>\n",
       "<table border=\"1\" class=\"dataframe\">\n",
       "  <thead>\n",
       "    <tr style=\"text-align: right;\">\n",
       "      <th></th>\n",
       "      <th>index</th>\n",
       "      <th>StockCode</th>\n",
       "      <th>Description</th>\n",
       "      <th>NewDescription</th>\n",
       "      <th>Token</th>\n",
       "    </tr>\n",
       "  </thead>\n",
       "  <tbody>\n",
       "    <tr>\n",
       "      <th>0</th>\n",
       "      <td>3</td>\n",
       "      <td>84029G</td>\n",
       "      <td>KNITTED UNION FLAG HOT WATER BOTTLE</td>\n",
       "      <td>KNITTED UNION FLAG HOT WATER BOTTLE</td>\n",
       "      <td>BOTTLE</td>\n",
       "    </tr>\n",
       "    <tr>\n",
       "      <th>1</th>\n",
       "      <td>4</td>\n",
       "      <td>84029E</td>\n",
       "      <td>RED WOOLLY HOTTIE WHITE HEART.</td>\n",
       "      <td>RED WOOLLY HOTTIE WHITE HEART</td>\n",
       "      <td>HEART</td>\n",
       "    </tr>\n",
       "    <tr>\n",
       "      <th>2</th>\n",
       "      <td>5</td>\n",
       "      <td>22752</td>\n",
       "      <td>SET 7 BABUSHKA NESTING BOXES</td>\n",
       "      <td>SET BABUSHKA NESTING BOX</td>\n",
       "      <td>BOX</td>\n",
       "    </tr>\n",
       "    <tr>\n",
       "      <th>3</th>\n",
       "      <td>6</td>\n",
       "      <td>21730</td>\n",
       "      <td>GLASS STAR FROSTED T-LIGHT HOLDER</td>\n",
       "      <td>GLASS STAR FROSTED T-LIGHT HOLDER</td>\n",
       "      <td>HOLDER</td>\n",
       "    </tr>\n",
       "    <tr>\n",
       "      <th>4</th>\n",
       "      <td>7</td>\n",
       "      <td>22633</td>\n",
       "      <td>HAND WARMER UNION JACK</td>\n",
       "      <td>HAND WARMER UNION JACK</td>\n",
       "      <td>JACK</td>\n",
       "    </tr>\n",
       "  </tbody>\n",
       "</table>\n",
       "</div>"
      ],
      "text/plain": [
       "   index StockCode                          Description  \\\n",
       "0      3    84029G  KNITTED UNION FLAG HOT WATER BOTTLE   \n",
       "1      4    84029E       RED WOOLLY HOTTIE WHITE HEART.   \n",
       "2      5     22752         SET 7 BABUSHKA NESTING BOXES   \n",
       "3      6     21730    GLASS STAR FROSTED T-LIGHT HOLDER   \n",
       "4      7     22633               HAND WARMER UNION JACK   \n",
       "\n",
       "                         NewDescription   Token  \n",
       "0   KNITTED UNION FLAG HOT WATER BOTTLE  BOTTLE  \n",
       "1         RED WOOLLY HOTTIE WHITE HEART   HEART  \n",
       "2              SET BABUSHKA NESTING BOX     BOX  \n",
       "3     GLASS STAR FROSTED T-LIGHT HOLDER  HOLDER  \n",
       "4                HAND WARMER UNION JACK    JACK  "
      ]
     },
     "execution_count": 30,
     "metadata": {},
     "output_type": "execute_result"
    }
   ],
   "source": [
    "assortiment.head()"
   ]
  },
  {
   "cell_type": "markdown",
   "metadata": {},
   "source": [
    "### *Step 3:* Categorization of goods <a class=\"anchor\" id=\"part3step3\"></a>\n",
    "\n",
    "For further analysis of product categories, it will be convenient to transfer tokens to a main dataset."
   ]
  },
  {
   "cell_type": "code",
   "execution_count": 31,
   "metadata": {},
   "outputs": [],
   "source": [
    "#add column Token to the basic dataset\n",
    "df_store= df_store.merge(assortiment[['StockCode','Token']], left_on='StockCode', right_on='StockCode'\n",
    "                         , how='outer')"
   ]
  },
  {
   "cell_type": "markdown",
   "metadata": {},
   "source": [
    "Сollecting a dataset of goods that have been sold."
   ]
  },
  {
   "cell_type": "code",
   "execution_count": 32,
   "metadata": {},
   "outputs": [],
   "source": [
    "#certain goods\n",
    "df_sell_items= df_store[(df_store['CustomerID']>0)&(df_store['UnitPrice']>0)&(df_store['Quantity']>0)\n",
    "         &(df_store['Token'].isnull()==False)]"
   ]
  },
  {
   "cell_type": "markdown",
   "metadata": {},
   "source": [
    "Let's look at the distribution of the store assortment by tokens."
   ]
  },
  {
   "cell_type": "code",
   "execution_count": 33,
   "metadata": {},
   "outputs": [
    {
     "data": {
      "image/png": "[encoded data removed]",
      "text/plain": [
       "<Figure size 576x288 with 1 Axes>"
      ]
     },
     "metadata": {
      "needs_background": "light"
     },
     "output_type": "display_data"
    }
   ],
   "source": [
    "#group by Token\n",
    "df= df_sell_items.groupby('Token').agg({'StockCode':'nunique'})\n",
    "\n",
    "plt.figure(figsize=(8,4))\n",
    "#whisker plot with hidden outlier points\n",
    "ax = sns.boxenplot(x=df[\"StockCode\"], palette=\"GnBu\", showfliers=False\n",
    "                  ).set_title(\"The distribution of products\", size=14);"
   ]
  },
  {
   "cell_type": "markdown",
   "metadata": {},
   "source": [
    "Boxplot shows us that tokens contain mainly 1 to 5 products. The Average number of products is 2.\n",
    "\n",
    "**Let's divide the entire set of products into two categories: basic products and additional products.**\n",
    "\n",
    "The basic product category is products with the same token that are sold individually or together with each other. The rest of the products are additional assortment."
   ]
  },
  {
   "cell_type": "code",
   "execution_count": 34,
   "metadata": {},
   "outputs": [],
   "source": [
    "#count all tokens\n",
    "df_count_invoices= df_sell_items.groupby('InvoiceNo').agg({'Token':'nunique'})\n",
    "df_count_invoices.columns=['Count']"
   ]
  },
  {
   "cell_type": "code",
   "execution_count": 35,
   "metadata": {},
   "outputs": [],
   "source": [
    "#invoices with a single token\n",
    "df_single_item= df_count_invoices[df_count_invoices['Count']==1]\\\n",
    "                                 .merge(df_sell_items[['InvoiceNo','Token']], \n",
    "                                  left_index=True, right_on='InvoiceNo')"
   ]
  },
  {
   "cell_type": "markdown",
   "metadata": {},
   "source": [
    "Let's assign categories to products. Here, **1** is the main products, **2** is an additional assortment."
   ]
  },
  {
   "cell_type": "code",
   "execution_count": 36,
   "metadata": {},
   "outputs": [],
   "source": [
    "#assign 1 to the main product category\n",
    "df_sell_items= df_sell_items.merge(df_single_item[['Token','Count']].drop_duplicates()\n",
    "                                   , left_on='Token'\n",
    "                                   , right_on='Token'\n",
    "                                   , how='outer').reset_index(drop=True)\n",
    "#assign 2 to the additional assortment\n",
    "df_sell_items['Count'].fillna(2, inplace=True)\n",
    "df_sell_items.rename(columns={'Count': 'Category'}, inplace=True)"
   ]
  },
  {
   "cell_type": "markdown",
   "metadata": {},
   "source": [
    "Visualization of the percentage of product categories."
   ]
  },
  {
   "cell_type": "code",
   "execution_count": 37,
   "metadata": {},
   "outputs": [],
   "source": [
    "def make_plot_pie(title, colors):\n",
    "    #this function builds a pie chart by params\n",
    "    #donut pie chart\n",
    "    ax= plt.pie(df, colors=colors, \n",
    "                pctdistance=0.5, autopct='%1.1f%%', textprops=dict(weight=\"bold\"),\n",
    "                wedgeprops = {'linewidth': 6, 'edgecolor':'white'})\n",
    "    plt.title(title, size=14); \n",
    "    #donut hole\n",
    "    my_circle = plt.Circle((0,0), 0.3, color='white')\n",
    "    p = plt.gcf() \n",
    "    p.gca().add_artist(my_circle)"
   ]
  },
  {
   "cell_type": "code",
   "execution_count": 38,
   "metadata": {},
   "outputs": [
    {
     "data": {
      "image/png": "[encoded data removed]",
      "text/plain": [
       "<Figure size 864x504 with 2 Axes>"
      ]
     },
     "metadata": {},
     "output_type": "display_data"
    }
   ],
   "source": [
    "plt.figure(figsize=(12,7))\n",
    "\n",
    "#pie chart Tokens\n",
    "#prepare the dataset for plotting\n",
    "df= df_sell_items.groupby('Category').agg({'Token':'nunique'})['Token']\n",
    "#plot\n",
    "plt.subplot(1,2,1)\n",
    "in_colors = [\"#66a428\", \"#b92d8a\"]\n",
    "in_title='Percentage of tokens'\n",
    "make_plot_pie(in_title, in_colors)\n",
    "#legend\n",
    "green_patch= mpatches.Patch(color=\"#66a428\", label='Main goods')\n",
    "red_patch= mpatches.Patch(color=\"#b92d8a\", label='Additional goods')\n",
    "plt.legend(handles=[green_patch, red_patch], loc=1, bbox_to_anchor=(1.35, 1))\n",
    "\n",
    "#pie chart Category\n",
    "#dataset\n",
    "df= df_sell_items.groupby('Category').agg({'StockCode':'nunique'})['StockCode']\n",
    "#plot\n",
    "plt.subplot(1,2,2)\n",
    "in_title='Percentage of products'\n",
    "make_plot_pie(in_title, in_colors)\n",
    "\n",
    "plt.show()"
   ]
  },
  {
   "cell_type": "markdown",
   "metadata": {},
   "source": [
    "As we can see in the graph, the store's products are distributed as follows:\n",
    "- the main category of goods has a smaller number of tokens, while they combine a larger number of product names.\n",
    "- the additional category contains a larger number of tokens, but at the same time it is composed for a smaller number of products."
   ]
  },
  {
   "cell_type": "markdown",
   "metadata": {},
   "source": [
    "### *Step 4:* Analysis of product categories <a class=\"anchor\" id=\"part3step4\"></a>\n",
    "\n",
    "In this step, we will consider the resulting categories in more detail.\n",
    "\n",
    "**- Which products are more often sold by themselves, and which ones are more often combined with others (main and additional assortment)?**\n",
    "\n",
    "Let's take a look at the top selling products in the main and additional categories."
   ]
  },
  {
   "cell_type": "code",
   "execution_count": 39,
   "metadata": {},
   "outputs": [],
   "source": [
    "def make_plot_items(num, title, color):\n",
    "    #this function make horizontal bar graph by params\n",
    "    #dataset\n",
    "    df= (df_sell_items[df_sell_items['Category']==num].groupby('Description')\n",
    "                                                      .agg({'Category':'count'})\n",
    "                                                      .sort_values('Category', ascending=False) \n",
    "         ).rename(columns={'Category':'Count'})\n",
    "    df['Percentage']= df.apply(lambda x: round(x['Count']/df.shape[0]*100, 2), axis=1)\n",
    "    #plotting\n",
    "    #params\n",
    "    fig = plt.figure(figsize = (13, 4))\n",
    "    ax = fig.add_subplot()\n",
    "    ax.set_title(title, fontdict={'size':15});\n",
    "    ax.set_xlabel('Percentage of all products in the category');\n",
    "    x= df.index[0:10]\n",
    "    y= df['Percentage'].head(10)\n",
    "    #barplot graph\n",
    "    ax.barh(x, y, color = color, alpha = 0.4);"
   ]
  },
  {
   "cell_type": "code",
   "execution_count": 40,
   "metadata": {},
   "outputs": [
    {
     "data": {
      "image/png": "[encoded data removed]",
      "text/plain": [
       "<Figure size 936x288 with 1 Axes>"
      ]
     },
     "metadata": {
      "needs_background": "light"
     },
     "output_type": "display_data"
    }
   ],
   "source": [
    "#main product category\n",
    "make_plot_items(1, 'The top 10 items of MAIN product category','green')"
   ]
  },
  {
   "cell_type": "markdown",
   "metadata": {},
   "source": [
    "WHITE HANGING HEART T-LIGHT HOLDER's sale is about 70% of all main category products."
   ]
  },
  {
   "cell_type": "code",
   "execution_count": 41,
   "metadata": {
    "scrolled": true
   },
   "outputs": [
    {
     "data": {
      "image/png": "[encoded data removed]",
      "text/plain": [
       "<Figure size 936x288 with 1 Axes>"
      ]
     },
     "metadata": {
      "needs_background": "light"
     },
     "output_type": "display_data"
    }
   ],
   "source": [
    "#ADDITIONAL product category\n",
    "make_plot_items(2, 'Th top 10 items of ADDITIONAL product category','purple')"
   ]
  },
  {
   "cell_type": "markdown",
   "metadata": {},
   "source": [
    "The most popular item in the additional product category is JUMBO STORAGE BAG SUKI. Its sales are over 85% of all products in this category."
   ]
  },
  {
   "cell_type": "markdown",
   "metadata": {},
   "source": [
    "**- What product groups are more often included in the assortment?**\n",
    "\n",
    "A sample of 10 tokens containing the largest number of products."
   ]
  },
  {
   "cell_type": "code",
   "execution_count": 42,
   "metadata": {},
   "outputs": [],
   "source": [
    "#main goods\n",
    "df_main10= df_sell_items[df_sell_items['Category']==1].groupby('Token')\\\n",
    "                                                      .agg({'StockCode':'nunique'})\\\n",
    "                                                      .sort_values('StockCode', ascending=False).head(10)\n",
    "\n",
    "#additional goods\n",
    "df_addit10= df_sell_items[df_sell_items['Category']==2].groupby('Token')\\\n",
    "                                                      .agg({'StockCode':'nunique'})\\\n",
    "                                                      .sort_values('StockCode', ascending=False).head(10)\n",
    "#merge datasets for plotting\n",
    "df= pd.concat([df_main10, df_addit10], axis=0)"
   ]
  },
  {
   "cell_type": "code",
   "execution_count": 43,
   "metadata": {
    "scrolled": true
   },
   "outputs": [
    {
     "data": {
      "image/png": "[encoded data removed]",
      "text/plain": [
       "<Figure size 1080x288 with 1 Axes>"
      ]
     },
     "metadata": {
      "needs_background": "light"
     },
     "output_type": "display_data"
    }
   ],
   "source": [
    "#plotting\n",
    "fig, ax1 = plt.subplots(figsize=(15, 4))\n",
    "#two colors for graph\n",
    "colors = ['#ccffcc' if c>25 else '#f2ccff' for c in df['StockCode']]\n",
    "#barplot\n",
    "ax = sns.barplot(x=df.index, y=df['StockCode'], palette=colors, ax=ax1);\n",
    "\n",
    "#annotation of bar labels\n",
    "for p in ax.patches:\n",
    "        ax.annotate('{:.0f}'.format(p.get_height()), (p.get_x()+0.4, p.get_height()), \n",
    "                    ha='center', va='bottom', color= 'black')\n",
    "ax.set(title='Tokens that are more often included in the assortment', ylabel='Count of products', xlabel='Tokens');\n",
    "plt.xticks(rotation=20);\n",
    "#legend\n",
    "green_patch = mpatches.Patch(color='#ccffcc', label='Main goods')\n",
    "red_patch = mpatches.Patch(color='#f2ccff', label='Additional goods')\n",
    "plt.legend(handles=[green_patch, red_patch])\n",
    "\n",
    "sns.despine(fig);"
   ]
  },
  {
   "cell_type": "markdown",
   "metadata": {},
   "source": [
    "Products from the Holder, Box and Design product groups are most commonly found in the basic product category.<br>\n",
    "In the category of additional products, the leading products from the groups Earrings, Mirror and Stickers."
   ]
  },
  {
   "cell_type": "markdown",
   "metadata": {},
   "source": [
    "**- What bundles of product groups are often present in shopping carts?**\n",
    "\n",
    "Let's check the goods in the invoices and find the most common token pairs."
   ]
  },
  {
   "cell_type": "code",
   "execution_count": 44,
   "metadata": {},
   "outputs": [],
   "source": [
    "#group by Invoices\n",
    "df= df_sell_items.groupby('InvoiceNo').agg({'Token':'unique'})\n",
    "#count Tokens in Invoices\n",
    "df['Count']= df.apply(lambda x: len(x['Token']), axis=1)\n",
    "#more than one Token\n",
    "df= df[df['Count']>1].reset_index()"
   ]
  },
  {
   "cell_type": "code",
   "execution_count": 45,
   "metadata": {},
   "outputs": [],
   "source": [
    "def collect_pairs(arr):\n",
    "    #selection of possible token pairs\n",
    "    n= len(arr)\n",
    "    #nested loop for pairs \n",
    "    for i in range(n): \n",
    "        for j in range(n): \n",
    "            if (arr[i] < arr[j]):\n",
    "                rows_list.append([arr[i],arr[j]])"
   ]
  },
  {
   "cell_type": "code",
   "execution_count": 46,
   "metadata": {},
   "outputs": [
    {
     "data": {
      "text/html": [
       "<style  type=\"text/css\" >\n",
       "#T_071157ca_60c6_11eb_b98d_0cdd24f17286row0_col2{\n",
       "            background-color:  #084081;\n",
       "            color:  #f1f1f1;\n",
       "        }#T_071157ca_60c6_11eb_b98d_0cdd24f17286row1_col2{\n",
       "            background-color:  #2f90c0;\n",
       "            color:  #000000;\n",
       "        }#T_071157ca_60c6_11eb_b98d_0cdd24f17286row2_col2{\n",
       "            background-color:  #3496c3;\n",
       "            color:  #000000;\n",
       "        }#T_071157ca_60c6_11eb_b98d_0cdd24f17286row3_col2{\n",
       "            background-color:  #a9ddb5;\n",
       "            color:  #000000;\n",
       "        }#T_071157ca_60c6_11eb_b98d_0cdd24f17286row4_col2{\n",
       "            background-color:  #addfb7;\n",
       "            color:  #000000;\n",
       "        }#T_071157ca_60c6_11eb_b98d_0cdd24f17286row5_col2{\n",
       "            background-color:  #b2e1b9;\n",
       "            color:  #000000;\n",
       "        }#T_071157ca_60c6_11eb_b98d_0cdd24f17286row6_col2{\n",
       "            background-color:  #bbe4bd;\n",
       "            color:  #000000;\n",
       "        }#T_071157ca_60c6_11eb_b98d_0cdd24f17286row7_col2{\n",
       "            background-color:  #c3e7c1;\n",
       "            color:  #000000;\n",
       "        }#T_071157ca_60c6_11eb_b98d_0cdd24f17286row8_col2{\n",
       "            background-color:  #c4e8c1;\n",
       "            color:  #000000;\n",
       "        }#T_071157ca_60c6_11eb_b98d_0cdd24f17286row9_col2{\n",
       "            background-color:  #d0ecc9;\n",
       "            color:  #000000;\n",
       "        }#T_071157ca_60c6_11eb_b98d_0cdd24f17286row10_col2{\n",
       "            background-color:  #d0edca;\n",
       "            color:  #000000;\n",
       "        }#T_071157ca_60c6_11eb_b98d_0cdd24f17286row11_col2{\n",
       "            background-color:  #ddf2d7;\n",
       "            color:  #000000;\n",
       "        }#T_071157ca_60c6_11eb_b98d_0cdd24f17286row12_col2{\n",
       "            background-color:  #e3f4de;\n",
       "            color:  #000000;\n",
       "        }#T_071157ca_60c6_11eb_b98d_0cdd24f17286row13_col2{\n",
       "            background-color:  #e9f7e3;\n",
       "            color:  #000000;\n",
       "        }#T_071157ca_60c6_11eb_b98d_0cdd24f17286row14_col2{\n",
       "            background-color:  #edf8e7;\n",
       "            color:  #000000;\n",
       "        }#T_071157ca_60c6_11eb_b98d_0cdd24f17286row15_col2{\n",
       "            background-color:  #eef8e7;\n",
       "            color:  #000000;\n",
       "        }#T_071157ca_60c6_11eb_b98d_0cdd24f17286row16_col2{\n",
       "            background-color:  #f1f9ea;\n",
       "            color:  #000000;\n",
       "        }#T_071157ca_60c6_11eb_b98d_0cdd24f17286row17_col2{\n",
       "            background-color:  #f3fbed;\n",
       "            color:  #000000;\n",
       "        }#T_071157ca_60c6_11eb_b98d_0cdd24f17286row18_col2{\n",
       "            background-color:  #f6fbef;\n",
       "            color:  #000000;\n",
       "        }#T_071157ca_60c6_11eb_b98d_0cdd24f17286row19_col2{\n",
       "            background-color:  #f7fcf0;\n",
       "            color:  #000000;\n",
       "        }</style><table id=\"T_071157ca_60c6_11eb_b98d_0cdd24f17286\" ><caption>Bundles of product tokens</caption><thead>    <tr>        <th class=\"blank level0\" ></th>        <th class=\"col_heading level0 col0\" >Group1</th>        <th class=\"col_heading level0 col1\" >Group2</th>        <th class=\"col_heading level0 col2\" >Count</th>    </tr></thead><tbody>\n",
       "                <tr>\n",
       "                        <th id=\"T_071157ca_60c6_11eb_b98d_0cdd24f17286level0_row0\" class=\"row_heading level0 row0\" >0</th>\n",
       "                        <td id=\"T_071157ca_60c6_11eb_b98d_0cdd24f17286row0_col0\" class=\"data row0 col0\" >DESIGN</td>\n",
       "                        <td id=\"T_071157ca_60c6_11eb_b98d_0cdd24f17286row0_col1\" class=\"data row0 col1\" >RETROSPOT</td>\n",
       "                        <td id=\"T_071157ca_60c6_11eb_b98d_0cdd24f17286row0_col2\" class=\"data row0 col2\" >3948</td>\n",
       "            </tr>\n",
       "            <tr>\n",
       "                        <th id=\"T_071157ca_60c6_11eb_b98d_0cdd24f17286level0_row1\" class=\"row_heading level0 row1\" >1</th>\n",
       "                        <td id=\"T_071157ca_60c6_11eb_b98d_0cdd24f17286row1_col0\" class=\"data row1 col0\" >BOX</td>\n",
       "                        <td id=\"T_071157ca_60c6_11eb_b98d_0cdd24f17286row1_col1\" class=\"data row1 col1\" >DESIGN</td>\n",
       "                        <td id=\"T_071157ca_60c6_11eb_b98d_0cdd24f17286row1_col2\" class=\"data row1 col2\" >3359</td>\n",
       "            </tr>\n",
       "            <tr>\n",
       "                        <th id=\"T_071157ca_60c6_11eb_b98d_0cdd24f17286level0_row2\" class=\"row_heading level0 row2\" >2</th>\n",
       "                        <td id=\"T_071157ca_60c6_11eb_b98d_0cdd24f17286row2_col0\" class=\"data row2 col0\" >DESIGN</td>\n",
       "                        <td id=\"T_071157ca_60c6_11eb_b98d_0cdd24f17286row2_col1\" class=\"data row2 col1\" >HOLDER</td>\n",
       "                        <td id=\"T_071157ca_60c6_11eb_b98d_0cdd24f17286row2_col2\" class=\"data row2 col2\" >3313</td>\n",
       "            </tr>\n",
       "            <tr>\n",
       "                        <th id=\"T_071157ca_60c6_11eb_b98d_0cdd24f17286level0_row3\" class=\"row_heading level0 row3\" >3</th>\n",
       "                        <td id=\"T_071157ca_60c6_11eb_b98d_0cdd24f17286row3_col0\" class=\"data row3 col0\" >DESIGN</td>\n",
       "                        <td id=\"T_071157ca_60c6_11eb_b98d_0cdd24f17286row3_col1\" class=\"data row3 col1\" >SET</td>\n",
       "                        <td id=\"T_071157ca_60c6_11eb_b98d_0cdd24f17286row3_col2\" class=\"data row3 col2\" >2552</td>\n",
       "            </tr>\n",
       "            <tr>\n",
       "                        <th id=\"T_071157ca_60c6_11eb_b98d_0cdd24f17286level0_row4\" class=\"row_heading level0 row4\" >4</th>\n",
       "                        <td id=\"T_071157ca_60c6_11eb_b98d_0cdd24f17286row4_col0\" class=\"data row4 col0\" >BAG</td>\n",
       "                        <td id=\"T_071157ca_60c6_11eb_b98d_0cdd24f17286row4_col1\" class=\"data row4 col1\" >DESIGN</td>\n",
       "                        <td id=\"T_071157ca_60c6_11eb_b98d_0cdd24f17286row4_col2\" class=\"data row4 col2\" >2513</td>\n",
       "            </tr>\n",
       "            <tr>\n",
       "                        <th id=\"T_071157ca_60c6_11eb_b98d_0cdd24f17286level0_row5\" class=\"row_heading level0 row5\" >5</th>\n",
       "                        <td id=\"T_071157ca_60c6_11eb_b98d_0cdd24f17286row5_col0\" class=\"data row5 col0\" >DESIGN</td>\n",
       "                        <td id=\"T_071157ca_60c6_11eb_b98d_0cdd24f17286row5_col1\" class=\"data row5 col1\" >HEART</td>\n",
       "                        <td id=\"T_071157ca_60c6_11eb_b98d_0cdd24f17286row5_col2\" class=\"data row5 col2\" >2479</td>\n",
       "            </tr>\n",
       "            <tr>\n",
       "                        <th id=\"T_071157ca_60c6_11eb_b98d_0cdd24f17286level0_row6\" class=\"row_heading level0 row6\" >6</th>\n",
       "                        <td id=\"T_071157ca_60c6_11eb_b98d_0cdd24f17286row6_col0\" class=\"data row6 col0\" >BOX</td>\n",
       "                        <td id=\"T_071157ca_60c6_11eb_b98d_0cdd24f17286row6_col1\" class=\"data row6 col1\" >RETROSPOT</td>\n",
       "                        <td id=\"T_071157ca_60c6_11eb_b98d_0cdd24f17286row6_col2\" class=\"data row6 col2\" >2409</td>\n",
       "            </tr>\n",
       "            <tr>\n",
       "                        <th id=\"T_071157ca_60c6_11eb_b98d_0cdd24f17286level0_row7\" class=\"row_heading level0 row7\" >7</th>\n",
       "                        <td id=\"T_071157ca_60c6_11eb_b98d_0cdd24f17286row7_col0\" class=\"data row7 col0\" >CASE</td>\n",
       "                        <td id=\"T_071157ca_60c6_11eb_b98d_0cdd24f17286row7_col1\" class=\"data row7 col1\" >DESIGN</td>\n",
       "                        <td id=\"T_071157ca_60c6_11eb_b98d_0cdd24f17286row7_col2\" class=\"data row7 col2\" >2348</td>\n",
       "            </tr>\n",
       "            <tr>\n",
       "                        <th id=\"T_071157ca_60c6_11eb_b98d_0cdd24f17286level0_row8\" class=\"row_heading level0 row8\" >8</th>\n",
       "                        <td id=\"T_071157ca_60c6_11eb_b98d_0cdd24f17286row8_col0\" class=\"data row8 col0\" >HOLDER</td>\n",
       "                        <td id=\"T_071157ca_60c6_11eb_b98d_0cdd24f17286row8_col1\" class=\"data row8 col1\" >RETROSPOT</td>\n",
       "                        <td id=\"T_071157ca_60c6_11eb_b98d_0cdd24f17286row8_col2\" class=\"data row8 col2\" >2343</td>\n",
       "            </tr>\n",
       "            <tr>\n",
       "                        <th id=\"T_071157ca_60c6_11eb_b98d_0cdd24f17286level0_row9\" class=\"row_heading level0 row9\" >9</th>\n",
       "                        <td id=\"T_071157ca_60c6_11eb_b98d_0cdd24f17286row9_col0\" class=\"data row9 col0\" >BOX</td>\n",
       "                        <td id=\"T_071157ca_60c6_11eb_b98d_0cdd24f17286row9_col1\" class=\"data row9 col1\" >HOLDER</td>\n",
       "                        <td id=\"T_071157ca_60c6_11eb_b98d_0cdd24f17286row9_col2\" class=\"data row9 col2\" >2232</td>\n",
       "            </tr>\n",
       "            <tr>\n",
       "                        <th id=\"T_071157ca_60c6_11eb_b98d_0cdd24f17286level0_row10\" class=\"row_heading level0 row10\" >10</th>\n",
       "                        <td id=\"T_071157ca_60c6_11eb_b98d_0cdd24f17286row10_col0\" class=\"data row10 col0\" >HEART</td>\n",
       "                        <td id=\"T_071157ca_60c6_11eb_b98d_0cdd24f17286row10_col1\" class=\"data row10 col1\" >HOLDER</td>\n",
       "                        <td id=\"T_071157ca_60c6_11eb_b98d_0cdd24f17286row10_col2\" class=\"data row10 col2\" >2222</td>\n",
       "            </tr>\n",
       "            <tr>\n",
       "                        <th id=\"T_071157ca_60c6_11eb_b98d_0cdd24f17286level0_row11\" class=\"row_heading level0 row11\" >11</th>\n",
       "                        <td id=\"T_071157ca_60c6_11eb_b98d_0cdd24f17286row11_col0\" class=\"data row11 col0\" >BAG</td>\n",
       "                        <td id=\"T_071157ca_60c6_11eb_b98d_0cdd24f17286row11_col1\" class=\"data row11 col1\" >RETROSPOT</td>\n",
       "                        <td id=\"T_071157ca_60c6_11eb_b98d_0cdd24f17286row11_col2\" class=\"data row11 col2\" >2044</td>\n",
       "            </tr>\n",
       "            <tr>\n",
       "                        <th id=\"T_071157ca_60c6_11eb_b98d_0cdd24f17286level0_row12\" class=\"row_heading level0 row12\" >12</th>\n",
       "                        <td id=\"T_071157ca_60c6_11eb_b98d_0cdd24f17286row12_col0\" class=\"data row12 col0\" >DESIGN</td>\n",
       "                        <td id=\"T_071157ca_60c6_11eb_b98d_0cdd24f17286row12_col1\" class=\"data row12 col1\" >SIGN</td>\n",
       "                        <td id=\"T_071157ca_60c6_11eb_b98d_0cdd24f17286row12_col2\" class=\"data row12 col2\" >1965</td>\n",
       "            </tr>\n",
       "            <tr>\n",
       "                        <th id=\"T_071157ca_60c6_11eb_b98d_0cdd24f17286level0_row13\" class=\"row_heading level0 row13\" >13</th>\n",
       "                        <td id=\"T_071157ca_60c6_11eb_b98d_0cdd24f17286row13_col0\" class=\"data row13 col0\" >RETROSPOT</td>\n",
       "                        <td id=\"T_071157ca_60c6_11eb_b98d_0cdd24f17286row13_col1\" class=\"data row13 col1\" >SET</td>\n",
       "                        <td id=\"T_071157ca_60c6_11eb_b98d_0cdd24f17286row13_col2\" class=\"data row13 col2\" >1892</td>\n",
       "            </tr>\n",
       "            <tr>\n",
       "                        <th id=\"T_071157ca_60c6_11eb_b98d_0cdd24f17286level0_row14\" class=\"row_heading level0 row14\" >14</th>\n",
       "                        <td id=\"T_071157ca_60c6_11eb_b98d_0cdd24f17286row14_col0\" class=\"data row14 col0\" >BUNTING</td>\n",
       "                        <td id=\"T_071157ca_60c6_11eb_b98d_0cdd24f17286row14_col1\" class=\"data row14 col1\" >DESIGN</td>\n",
       "                        <td id=\"T_071157ca_60c6_11eb_b98d_0cdd24f17286row14_col2\" class=\"data row14 col2\" >1850</td>\n",
       "            </tr>\n",
       "            <tr>\n",
       "                        <th id=\"T_071157ca_60c6_11eb_b98d_0cdd24f17286level0_row15\" class=\"row_heading level0 row15\" >15</th>\n",
       "                        <td id=\"T_071157ca_60c6_11eb_b98d_0cdd24f17286row15_col0\" class=\"data row15 col0\" >DESIGN</td>\n",
       "                        <td id=\"T_071157ca_60c6_11eb_b98d_0cdd24f17286row15_col1\" class=\"data row15 col1\" >POLKADOT</td>\n",
       "                        <td id=\"T_071157ca_60c6_11eb_b98d_0cdd24f17286row15_col2\" class=\"data row15 col2\" >1837</td>\n",
       "            </tr>\n",
       "            <tr>\n",
       "                        <th id=\"T_071157ca_60c6_11eb_b98d_0cdd24f17286level0_row16\" class=\"row_heading level0 row16\" >16</th>\n",
       "                        <td id=\"T_071157ca_60c6_11eb_b98d_0cdd24f17286row16_col0\" class=\"data row16 col0\" >BOX</td>\n",
       "                        <td id=\"T_071157ca_60c6_11eb_b98d_0cdd24f17286row16_col1\" class=\"data row16 col1\" >SET</td>\n",
       "                        <td id=\"T_071157ca_60c6_11eb_b98d_0cdd24f17286row16_col2\" class=\"data row16 col2\" >1804</td>\n",
       "            </tr>\n",
       "            <tr>\n",
       "                        <th id=\"T_071157ca_60c6_11eb_b98d_0cdd24f17286level0_row17\" class=\"row_heading level0 row17\" >17</th>\n",
       "                        <td id=\"T_071157ca_60c6_11eb_b98d_0cdd24f17286row17_col0\" class=\"data row17 col0\" >DESIGN</td>\n",
       "                        <td id=\"T_071157ca_60c6_11eb_b98d_0cdd24f17286row17_col1\" class=\"data row17 col1\" >RED</td>\n",
       "                        <td id=\"T_071157ca_60c6_11eb_b98d_0cdd24f17286row17_col2\" class=\"data row17 col2\" >1772</td>\n",
       "            </tr>\n",
       "            <tr>\n",
       "                        <th id=\"T_071157ca_60c6_11eb_b98d_0cdd24f17286level0_row18\" class=\"row_heading level0 row18\" >18</th>\n",
       "                        <td id=\"T_071157ca_60c6_11eb_b98d_0cdd24f17286row18_col0\" class=\"data row18 col0\" >CASE</td>\n",
       "                        <td id=\"T_071157ca_60c6_11eb_b98d_0cdd24f17286row18_col1\" class=\"data row18 col1\" >RETROSPOT</td>\n",
       "                        <td id=\"T_071157ca_60c6_11eb_b98d_0cdd24f17286row18_col2\" class=\"data row18 col2\" >1747</td>\n",
       "            </tr>\n",
       "            <tr>\n",
       "                        <th id=\"T_071157ca_60c6_11eb_b98d_0cdd24f17286level0_row19\" class=\"row_heading level0 row19\" >19</th>\n",
       "                        <td id=\"T_071157ca_60c6_11eb_b98d_0cdd24f17286row19_col0\" class=\"data row19 col0\" >BOX</td>\n",
       "                        <td id=\"T_071157ca_60c6_11eb_b98d_0cdd24f17286row19_col1\" class=\"data row19 col1\" >HEART</td>\n",
       "                        <td id=\"T_071157ca_60c6_11eb_b98d_0cdd24f17286row19_col2\" class=\"data row19 col2\" >1721</td>\n",
       "            </tr>\n",
       "    </tbody></table>"
      ],
      "text/plain": [
       "<pandas.io.formats.style.Styler at 0x25275d62148>"
      ]
     },
     "execution_count": 46,
     "metadata": {},
     "output_type": "execute_result"
    }
   ],
   "source": [
    "#list of token pairs\n",
    "rows_list= []\n",
    "#fill the list\n",
    "c= df.apply(lambda x: collect_pairs(x['Token']), axis=1 )\n",
    "df_pair= pd.DataFrame(rows_list, columns=[['p1','p2']])\n",
    "\n",
    "#the top 20 of token pairs\n",
    "df_top= df_pair.value_counts().head(20).to_frame().reset_index()\n",
    "df_top.columns=['Group1','Group2','Count']\n",
    "#dataframe styling\n",
    "df_top.style.set_caption('Bundles of product tokens').background_gradient(cmap='GnBu')"
   ]
  },
  {
   "cell_type": "markdown",
   "metadata": {},
   "source": [
    "### Conclusion. <a class=\"anchor\" id=\"part3Conclusion\"></a>"
   ]
  },
  {
   "cell_type": "markdown",
   "metadata": {},
   "source": [
    "At this stage, we have separated the dataset with product names and tried to remove accounting amendments from it. Then the names of the goods were unified. We divided the goods into groups and assigned tokens to each group. We also divided the products into two categories: main and additional.<br>\n",
    "In summary, we can say that the dataset has 736 unique token attributes. Of these, 41% are tokens of the main category, 59% belong to the additional category of goods in the online store. Moreover, most of the products are grouped into the main category. The additional category has fewer products, but the products are more varied.<br>\n",
    "Various holders are the undoubted sales leader; earrings are more often chosen from the additional category.\n",
    "Paired goods in invoices more often belong to the DESIGN group, they are paired with the RETROSPOT, BOX, HOLDER groups, etc."
   ]
  },
  {
   "cell_type": "markdown",
   "metadata": {},
   "source": [
    "## 4. Hypothesis testing <a class=\"anchor\" id=\"Part_4\"></a>\n",
    "\n",
    "[Go back to the Contents](#contents)\n",
    "\n",
    "The purpose of hypothesis testing is to determine whether there is enough statistical evidence in favor of a certain belief, or hypothesis, about a parameter.\n",
    "\n",
    "Our task here will be to check this question:\n",
    "- **Does the average income for main category differ from the average income for additional category?**\n",
    "\n",
    "Firstly, we remove anomalies and outliers to improve the quality of further analysis."
   ]
  },
  {
   "cell_type": "code",
   "execution_count": 47,
   "metadata": {},
   "outputs": [
    {
     "data": {
      "image/png": "[encoded data removed]",
      "text/plain": [
       "<Figure size 576x288 with 1 Axes>"
      ]
     },
     "metadata": {
      "needs_background": "light"
     },
     "output_type": "display_data"
    }
   ],
   "source": [
    "#whisker plots of Quantity and UnitPrice\n",
    "plt.figure(figsize=(8,4))\n",
    "sns.boxenplot(x=\"variable\", y=\"value\", data=pd.melt(df_sell_items[['Quantity','UnitPrice']])\n",
    "             ).set_title(\"The distribution of Quantity and UnitPrice\", size=14);"
   ]
  },
  {
   "cell_type": "code",
   "execution_count": 48,
   "metadata": {},
   "outputs": [
    {
     "name": "stdout",
     "output_type": "stream",
     "text": [
      "Total rows in the dataset: 391147\n"
     ]
    }
   ],
   "source": [
    "#filtered dataset\n",
    "df_filtered= df_sell_items[(df_sell_items['Token']!='POSTAGE')&(df_sell_items['Quantity']<5000)\n",
    "                          ][['Quantity','UnitPrice','Category']].reset_index()\n",
    "df_filtered['Price']= df_filtered['Quantity']*df_filtered['UnitPrice']\n",
    "df_filtered= df_filtered[(df_filtered['Price']<5000)].reset_index()\n",
    "\n",
    "print(\"Total rows in the dataset:\", df_filtered.shape[0])"
   ]
  },
  {
   "cell_type": "markdown",
   "metadata": {},
   "source": [
    "The null hypothesis H₀ is always stated with an equal sign, so:<br>\n",
    "H₀ - The average incomes for main category and additional category are the same.\n",
    "\n",
    "The alternative hypothesis, H₁, is based on H₀, so:<br>\n",
    "H₁ - The average incomes for main category and additional category are differ.\n",
    "\n",
    "The significant level is the probability of rejecting the null hypothesis. I will use the significant level = 0.05, because a p-value less than 0.05 (typically ≤ 0.05) is statistically significant.\n",
    "\n",
    "I will apply a scipy.stats.ttest_ind method. This is a two-sided test for the null hypothesis that 2 independent samples have identical average (expected) values."
   ]
  },
  {
   "cell_type": "code",
   "execution_count": 49,
   "metadata": {},
   "outputs": [],
   "source": [
    "def ttest(sample_1, sample_2, is_equal_var):\n",
    "    #this function perform a standard independent 2 sample test\n",
    "    # or Welch’s t-test, which does not assume equal population variance\n",
    "    \n",
    "    alpha = .05 #The significant level\n",
    "\n",
    "    results = stats.ttest_ind(\n",
    "            sample_1, \n",
    "            sample_2,\n",
    "            equal_var= is_equal_var)\n",
    "\n",
    "    #if the p-value is less than alpha, we reject the hypothesis\n",
    "    print('p-value: ', results.pvalue)\n",
    " \n",
    "    if (results.pvalue < alpha):\n",
    "        print(\"We reject the null hypothesis\")\n",
    "    else:\n",
    "        print(\"We can't reject the null hypothesis\")"
   ]
  },
  {
   "cell_type": "code",
   "execution_count": 50,
   "metadata": {},
   "outputs": [],
   "source": [
    "#dataset of main category\n",
    "df_1 = df_filtered.loc[(df_filtered['Category']==1)]['Price']\n",
    "#dataset of additional category\n",
    "df_2 = df_filtered.loc[(df_filtered['Category']==2)]['Price']"
   ]
  },
  {
   "cell_type": "markdown",
   "metadata": {},
   "source": [
    "Let's determine the sample size."
   ]
  },
  {
   "cell_type": "code",
   "execution_count": 51,
   "metadata": {},
   "outputs": [
    {
     "name": "stdout",
     "output_type": "stream",
     "text": [
      "Sample size: 54600\n"
     ]
    }
   ],
   "source": [
    "#count sample size\n",
    "sample_size_1 = df_1.count()\n",
    "sample_size_2 = df_2.count()\n",
    "\n",
    "if (sample_size_1 <= sample_size_2):\n",
    "    sample_size= sample_size_1\n",
    "else:\n",
    "    sample_size= sample_size_2  \n",
    "    \n",
    "print('Sample size:', sample_size)\n",
    "list_1 = df_1.sample(sample_size).tolist()\n",
    "list_2 = df_2.sample(sample_size).tolist()"
   ]
  },
  {
   "cell_type": "markdown",
   "metadata": {},
   "source": [
    "Let's determine the variances."
   ]
  },
  {
   "cell_type": "code",
   "execution_count": 52,
   "metadata": {},
   "outputs": [
    {
     "name": "stdout",
     "output_type": "stream",
     "text": [
      "Variance of average income for main category -  4354.326056508742\n",
      "Variance of average income for additional category -  3620.747887744038\n"
     ]
    }
   ],
   "source": [
    "#variance\n",
    "var_1 = np.var(list_1)\n",
    "var_2 = np.var(list_2)\n",
    "print('Variance of average income for main category - ',var_1)\n",
    "print('Variance of average income for additional category - ',var_2)"
   ]
  },
  {
   "cell_type": "code",
   "execution_count": 53,
   "metadata": {},
   "outputs": [
    {
     "name": "stdout",
     "output_type": "stream",
     "text": [
      "p-value:  3.1155502408628406e-42\n",
      "We reject the null hypothesis\n"
     ]
    }
   ],
   "source": [
    "if (var_1 == var_2):\n",
    "    is_equal_variance = True  #perform a standard independent 2 sample test\n",
    "else:    \n",
    "    is_equal_variance = False #perform Welch’s t-test\n",
    "\n",
    "#t-test\n",
    "ttest( list_1, list_2, is_equal_variance)"
   ]
  },
  {
   "cell_type": "markdown",
   "metadata": {},
   "source": [
    "The p-value shows less than 1% probability of a null hypothesis."
   ]
  },
  {
   "cell_type": "code",
   "execution_count": 54,
   "metadata": {},
   "outputs": [
    {
     "name": "stdout",
     "output_type": "stream",
     "text": [
      "Average income of main category is 12.6\n",
      "Average income of additional category is 9.9\n"
     ]
    }
   ],
   "source": [
    "print('Average income of main category is', round(df_1.median(),1))\n",
    "print('Average income of additional category is', round(df_2.median(),1))"
   ]
  },
  {
   "cell_type": "markdown",
   "metadata": {},
   "source": [
    "### Conclusion. <a class=\"anchor\" id=\"part4Conclusion\"></a>\n",
    "\n",
    "So we got the result:\n",
    "the difference between the income of the main category and the additional category is statistically significant."
   ]
  },
  {
   "cell_type": "markdown",
   "metadata": {},
   "source": [
    "## 5. Working with business metrics and indicators <a class=\"anchor\" id=\"Part_5\"></a>\n",
    "\n",
    "[Go back to the Contents](#contents)\n",
    "\n",
    "Key performance indicators (KPIs) and business metrics are like milestones on the road to online trading success. Monitoring them will help product managers measure progress towards their sales, marketing, and customer service goals.\n",
    "\n",
    "The analytical report will show the following KPIs and metrics:"
   ]
  },
  {
   "cell_type": "markdown",
   "metadata": {},
   "source": [
    "### Total revenue <a class=\"anchor\" id=\"part5step1\"></a>\n",
    "\n",
    "Total revenue is the full amount of total sales of goods. "
   ]
  },
  {
   "cell_type": "code",
   "execution_count": 55,
   "metadata": {},
   "outputs": [],
   "source": [
    "#reduce dataset\n",
    "df_storeItems= df_store[(df_store['Quantity']<5000)&(df_store['Quantity']>-5000)&\\\n",
    "              (df_store['UnitPrice']>0)&(df_store['UnitPrice']<10000)]\\\n",
    "              [['Quantity','UnitPrice','InvoiceDate','InvoiceNo','CustomerID']]"
   ]
  },
  {
   "cell_type": "code",
   "execution_count": 56,
   "metadata": {},
   "outputs": [
    {
     "data": {
      "image/png": "[encoded data removed]",
      "text/plain": [
       "<Figure size 576x288 with 1 Axes>"
      ]
     },
     "metadata": {
      "needs_background": "light"
     },
     "output_type": "display_data"
    }
   ],
   "source": [
    "#whisker plots of Quantity and UnitPrice\n",
    "plt.figure(figsize=(8,4))\n",
    "sns.boxenplot(x=\"variable\", y=\"value\", data=pd.melt(df_storeItems[['Quantity','UnitPrice']])\n",
    "             ).set_title(\"The distribution of Quantity and UnitPrice\", size=14);"
   ]
  },
  {
   "cell_type": "markdown",
   "metadata": {},
   "source": [
    "Adding several columns for subsequent calculations."
   ]
  },
  {
   "cell_type": "code",
   "execution_count": 57,
   "metadata": {},
   "outputs": [],
   "source": [
    "#month\n",
    "df_storeItems['InvoiceMonth']= df_storeItems['InvoiceDate'].astype('datetime64[M]')\n",
    "#price\n",
    "df_storeItems['Price']= (df_storeItems['Quantity']*df_storeItems['UnitPrice'])"
   ]
  },
  {
   "cell_type": "markdown",
   "metadata": {},
   "source": [
    "Total revenue by months."
   ]
  },
  {
   "cell_type": "code",
   "execution_count": 58,
   "metadata": {},
   "outputs": [],
   "source": [
    "#dataset\n",
    "df_revenue= df_storeItems.groupby('InvoiceMonth')\\\n",
    "                         .agg({'Price':'sum','InvoiceNo':'nunique','CustomerID':'nunique'})"
   ]
  },
  {
   "cell_type": "code",
   "execution_count": 59,
   "metadata": {},
   "outputs": [
    {
     "data": {
      "image/png": "[encoded data removed]",
      "text/plain": [
       "<Figure size 936x360 with 1 Axes>"
      ]
     },
     "metadata": {
      "needs_background": "light"
     },
     "output_type": "display_data"
    }
   ],
   "source": [
    "#line plot\n",
    "plt.figure(figsize=(13,5))\n",
    "plt.grid(True)\n",
    "ax = (sns.lineplot(data=df_revenue, x=\"InvoiceMonth\", y=\"Price\", color='purple', \n",
    "              marker='o', markerfacecolor='blue', markersize=10));\n",
    "ax.set(xlabel=\"Invoice Month\", ylabel=\"Revenue\", title='Distribution of revenue');"
   ]
  },
  {
   "cell_type": "code",
   "execution_count": 60,
   "metadata": {},
   "outputs": [
    {
     "name": "stdout",
     "output_type": "stream",
     "text": [
      "Average total online store revenue: 704721.47\n"
     ]
    }
   ],
   "source": [
    "print('Average total online store revenue:',round(df_revenue['Price'].mean(),2) )"
   ]
  },
  {
   "cell_type": "markdown",
   "metadata": {},
   "source": [
    "The graph shows that until May 2019, total income fluctuated between 500,000 and 800,000, and then gradually increased and peaked in November 2019. The decrease in income after November 2019 may be due to incomplete data for analysis.\n",
    "\n",
    "Next metric:"
   ]
  },
  {
   "cell_type": "markdown",
   "metadata": {},
   "source": [
    "### AOV - Average Order Value <a class=\"anchor\" id=\"part5step2\"></a>\n",
    "\n",
    "This is an ecommerce metric that refers to the average amount of money spent by customers per order."
   ]
  },
  {
   "cell_type": "code",
   "execution_count": 61,
   "metadata": {},
   "outputs": [
    {
     "data": {
      "image/png": "[encoded data removed]",
      "text/plain": [
       "<Figure size 936x360 with 1 Axes>"
      ]
     },
     "metadata": {
      "needs_background": "light"
     },
     "output_type": "display_data"
    }
   ],
   "source": [
    "#Total Revenue ÷ Total No. of Orders = Average Order Value\n",
    "df_revenue['AOV']= df_revenue['Price']/df_revenue['InvoiceNo']\n",
    "\n",
    "#line plot\n",
    "plt.figure(figsize=(13,5))\n",
    "plt.grid(True)\n",
    "ax = (sns.lineplot(data=df_revenue, x=\"InvoiceMonth\", y=\"AOV\", color='blue', \n",
    "              marker='o', markerfacecolor='green', markersize=10));\n",
    "ax.set(xlabel=\"Invoice Month\", ylabel=\"AOV\", title='Distribution of AOV');"
   ]
  },
  {
   "cell_type": "code",
   "execution_count": 62,
   "metadata": {},
   "outputs": [
    {
     "name": "stdout",
     "output_type": "stream",
     "text": [
      "Average Order Value (AOV): 414.87\n"
     ]
    }
   ],
   "source": [
    "print('Average Order Value (AOV):',round(df_revenue['Price'].sum()/df_revenue['InvoiceNo'].sum(),2) )"
   ]
  },
  {
   "cell_type": "markdown",
   "metadata": {},
   "source": [
    "From January 2019, we see a decrease in the average order amount up to April 2019. Since April 2019, there has been an increase in the order amount with a slight decrease in October and November.\n",
    "\n",
    "Next metric:"
   ]
  },
  {
   "cell_type": "markdown",
   "metadata": {},
   "source": [
    "### Average Revenue Per User (ARPU) <a class=\"anchor\" id=\"part5step3\"></a>\n",
    "\n",
    "Average Revenue Per User is the average amount of monthly revenue that store receives per user."
   ]
  },
  {
   "cell_type": "code",
   "execution_count": 63,
   "metadata": {},
   "outputs": [
    {
     "data": {
      "image/png": "[encoded data removed]",
      "text/plain": [
       "<Figure size 936x360 with 1 Axes>"
      ]
     },
     "metadata": {
      "needs_background": "light"
     },
     "output_type": "display_data"
    }
   ],
   "source": [
    "#Total Revenue ÷ Total No. of Customers = ARPU\n",
    "df_revenue['ARPU']= df_revenue['Price']/df_revenue['CustomerID']\n",
    "\n",
    "#line plot\n",
    "plt.figure(figsize=(13,5))\n",
    "plt.grid(True)\n",
    "ax = (sns.lineplot(data=df_revenue, x=\"InvoiceMonth\", y=\"ARPU\", color='green', \n",
    "              marker='o', markerfacecolor='red', markersize=10));\n",
    "ax.set(xlabel=\"Invoice Month\", ylabel=\"ARPU\", title='Distribution of ARPU');"
   ]
  },
  {
   "cell_type": "code",
   "execution_count": 64,
   "metadata": {},
   "outputs": [
    {
     "name": "stdout",
     "output_type": "stream",
     "text": [
      "Average Revenue Per User (ARPU): 721.05\n"
     ]
    }
   ],
   "source": [
    "print('Average Revenue Per User (ARPU):',round(df_revenue['Price'].sum()/df_revenue['CustomerID'].sum(),2) )"
   ]
  },
  {
   "cell_type": "markdown",
   "metadata": {},
   "source": [
    "Since the beginning of the period under review, the Average amount of monthly revenue has decreased and until April 2019 has decreased by 1.5 times. Since April 2019, we have seen a positive increase in the metric value. From May 2019 to October 2019, ARPU was in the range of 700 to 750. In November 2019, the metric showed a positive jump up again."
   ]
  },
  {
   "cell_type": "markdown",
   "metadata": {},
   "source": [
    "### How many invoices did the store's customers have on average?<a class=\"anchor\" id=\"part5step3\"></a>"
   ]
  },
  {
   "cell_type": "code",
   "execution_count": 65,
   "metadata": {},
   "outputs": [
    {
     "data": {
      "image/png": "[encoded data removed]",
      "text/plain": [
       "<Figure size 936x360 with 1 Axes>"
      ]
     },
     "metadata": {
      "needs_background": "light"
     },
     "output_type": "display_data"
    }
   ],
   "source": [
    "#dataset\n",
    "df= (df_storeItems[df_storeItems['CustomerID']>0].groupby(['InvoiceMonth','CustomerID'])\\\n",
    "                                                .agg({'InvoiceNo':'nunique'})).groupby(level=0).mean()\n",
    "#line plot\n",
    "plt.figure(figsize=(13,5))\n",
    "plt.grid(True)\n",
    "ax = (sns.lineplot(data=df, x=\"InvoiceMonth\", y=\"InvoiceNo\", color='red', \n",
    "              marker='o', markerfacecolor='blue', markersize=10));\n",
    "ax.set(xlabel=\"Invoice Month\", ylabel=\"Invoices\", title='Average number of customer invoices');"
   ]
  },
  {
   "cell_type": "code",
   "execution_count": 66,
   "metadata": {},
   "outputs": [
    {
     "name": "stdout",
     "output_type": "stream",
     "text": [
      "Average number of customer invoices: 1.58\n"
     ]
    }
   ],
   "source": [
    "print('Average number of customer invoices:', round(df['InvoiceNo'].mean(),2) )"
   ]
  },
  {
   "cell_type": "markdown",
   "metadata": {},
   "source": [
    "On average, store customers have more than one invoice."
   ]
  },
  {
   "cell_type": "markdown",
   "metadata": {},
   "source": [
    "### Dashboard <a class=\"anchor\" id=\"part5step5\"></a>\n",
    "The following parameters is showed using a dashboard in Tableau:<br>\n",
    "**Pane 1 - Categories<br>\n",
    "Pane 2 - Groups (Tokens)<br>\n",
    "Pane 3 - Items<br>\n",
    "Pane 4 - Total revenue<br>\n",
    "Pane 5 - Average Revenue Per User<br>\n",
    "Pane 6 - Average Order Value**\n",
    "\n",
    "The values can be viewed in a breakdown of months.\n",
    "\n",
    "Datasets for the dashboard."
   ]
  },
  {
   "cell_type": "code",
   "execution_count": 67,
   "metadata": {},
   "outputs": [],
   "source": [
    "#all products\n",
    "df= df_sell_items[['StockCode','Description','InvoiceDate','Token','Category']].copy()\n",
    "df['InvoiceMonth']= df['InvoiceDate'].astype('datetime64[M]')\n",
    "#reduce dataset\n",
    "df1 = df[(df['InvoiceMonth']>'2018-12-01')&(df['InvoiceMonth']<'2019-12-01')]\\\n",
    "  [['StockCode','Description','InvoiceMonth','Token','Category']]\n",
    "df2= df1.groupby(['StockCode','Description','InvoiceMonth','Token','Category']).agg({'StockCode':'count'})\n",
    "df2.columns=['Count']\n",
    "df2.reset_index(inplace=True)\n",
    "#save dataset to csv file\n",
    "#df2.to_csv(\"sold_items.csv\")"
   ]
  },
  {
   "cell_type": "code",
   "execution_count": 68,
   "metadata": {},
   "outputs": [],
   "source": [
    "#KPI metrics\n",
    "df= df_revenue.reset_index()\n",
    "#reduce dataset\n",
    "df2=df[(df['InvoiceMonth']>'2018-12-01')&(df['InvoiceMonth']<'2019-12-01')].reset_index(drop=True)\n",
    "#save dataset to csv file\n",
    "#df2.to_csv(\"metrics.csv\")"
   ]
  },
  {
   "cell_type": "markdown",
   "metadata": {},
   "source": [
    "### Conclusion <a class=\"anchor\" id=\"part5Conclusion\"></a>\n",
    "\n",
    "Summing up, we can say that the KPIs and metrics of this online store show that over the period under review, total income has increased significantly since April 2019. The average amount of money spent by customers per order has also increased.<br>\n",
    "The average amount of monthly revenue that store receives per user dropped significantly until April 2019. Then it not only returned to its previous value, but increased.<br>\n",
    "The average number of invoices greater than one indicates that users are returning to the store."
   ]
  },
  {
   "cell_type": "markdown",
   "metadata": {},
   "source": [
    "## General Conclusion<a class=\"anchor\" id=\"General_Conclusion\"></a>\n",
    "[Go back to the Contents](#contents)\n",
    "\n",
    "The online household goods store provided a file with transactions carried out by the store's customers and accounting. Customer data is an invoice data about purchases made. The accounting data contains the corrections they made, such as refund, postage, etc.<br> \n",
    "The file contains historical data from December 2018 to December 2019. The total of records in the file is 541,909.\n",
    "\n",
    "The dataset contained some unacceptable data that was filled in or deleted. The dataset contains 24% of records without a CustomerID which contains accounting transactions. We left them in the dataset to correctly calculate the total income. However, these rows were excluded at the stage of categorizing store products, as well as when calculating the average number of invoices per customer.\n",
    "\n",
    "All products of the store were divided into groups and each group was assigned a label (token). The resulting groups were divided into two categories: the main assortment of the store and additional products.\n",
    "\n",
    "The dataset contains 736 unique product groups. Of these, 41% are tokens of the main category, 59% belong to the additional category of goods.<br>\n",
    "The number of products in the main category is higher than in the groups of the additional category.\n",
    "\n",
    "Various holders are the sales leader; earrings are more often chosen from the additional category.\n",
    "Paired goods in invoices more often belong to the DESIGN group, they are paired with the RETROSPOT, BOX, HOLDER groups, etc.\n",
    "\n",
    "The analysis of income by category showed that the difference between the income of the main category and the additional category is statistically significant.\n",
    "\n",
    "When calculating KPIs, we saw that online store metrics showed a significant drop until April 2019. And then a significant increase until the end of the period under review. Perhaps there were marketing campaigns in April that led to positive results.\n",
    "\n",
    "In general, the online store is showing positive dynamics. The basic profit comes from products of the main category. Products of the Design group are more often combined with other products."
   ]
  },
  {
   "cell_type": "markdown",
   "metadata": {},
   "source": [
    "## Presentation  <a class=\"anchor\" id=\"Presentation\"></a>\n",
    "\n",
    "The final result of the analysis is presented in the form of <a href=\"https://drive.google.com/file/d/1ChZRpUAKm5oUtMW2XdQ1w9lbgInIuVEP/view?usp=sharing\">a PDF file</a> and contains visualization and conclusions on stages of the analysis."
   ]
  },
  {
   "cell_type": "markdown",
   "metadata": {},
   "source": [
    "## Dashboard  <a class=\"anchor\" id=\"Dashboard\"></a>\n",
    "\n",
    "The Tableau dashboard: <a href=\"https://public.tableau.com/profile/luba.sheynin#!/vizhome/HomegoodsOnlineStore2019/OnlineStore\">HomegoodsOnlineStore2019</a> "
   ]
  },
  {
   "cell_type": "markdown",
   "metadata": {},
   "source": [
    "## References  <a class=\"anchor\" id=\"References\"></a>\n",
    "1. <a href=\"https://www.oberlo.com/blog/key-performance-indicators-kpis\">6 CRUCIAL ECOMMERCE KEY PERFORMANCE INDICATORS (KPIS) TO TRACK</a>\n",
    "2. <a href=\"https://thenextscoop.com/how-to-analyze-e-commerce-data/\">How to Analyze Your E-commerce Data</a>\n",
    "3. <a href=\"https://hackr.io/blog/what-is-data-analysis-methods-techniques-tools\">What is Data Analysis? Methods, Techniques & Tools</a>\n",
    "4. <a href=\"https://medium.com/@babagee500/hypothesis-testing-in-an-e-commerce-business-1025bdab1f1d\">Hypothesis Testing in an E-commerce Business</a>"
   ]
  },
  {
   "cell_type": "markdown",
   "metadata": {},
   "source": [
    "[Go back to the Contents](#contents)"
   ]
  }
 ],
 "metadata": {
  "kernelspec": {
   "display_name": "Python 3",
   "language": "python",
   "name": "python3"
  },
  "language_info": {
   "codemirror_mode": {
    "name": "ipython",
    "version": 3
   },
   "file_extension": ".py",
   "mimetype": "text/x-python",
   "name": "python",
   "nbconvert_exporter": "python",
   "pygments_lexer": "ipython3",
   "version": "3.7.9"
  }
 },
 "nbformat": 4,
 "nbformat_minor": 2
}
